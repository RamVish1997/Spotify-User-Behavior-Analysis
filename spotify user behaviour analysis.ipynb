{
 "cells": [
  {
   "cell_type": "code",
   "execution_count": 105,
   "id": "63eb8388",
   "metadata": {},
   "outputs": [],
   "source": [
    "# import the required liabrery\n",
    "\n",
    "import numpy as np\n",
    "import pandas as pd\n",
    "import matplotlib.pyplot as plt\n",
    "import seaborn as sns"
   ]
  },
  {
   "cell_type": "code",
   "execution_count": 106,
   "id": "ed28bdab",
   "metadata": {},
   "outputs": [
    {
     "data": {
      "text/html": [
       "<div>\n",
       "<style scoped>\n",
       "    .dataframe tbody tr th:only-of-type {\n",
       "        vertical-align: middle;\n",
       "    }\n",
       "\n",
       "    .dataframe tbody tr th {\n",
       "        vertical-align: top;\n",
       "    }\n",
       "\n",
       "    .dataframe thead th {\n",
       "        text-align: right;\n",
       "    }\n",
       "</style>\n",
       "<table border=\"1\" class=\"dataframe\">\n",
       "  <thead>\n",
       "    <tr style=\"text-align: right;\">\n",
       "      <th></th>\n",
       "      <th>Age</th>\n",
       "      <th>Gender</th>\n",
       "      <th>spotify_usage_period</th>\n",
       "      <th>spotify_listening_device</th>\n",
       "      <th>spotify_subscription_plan</th>\n",
       "      <th>premium_sub_willingness</th>\n",
       "      <th>preffered_premium_plan</th>\n",
       "      <th>preferred_listening_content</th>\n",
       "      <th>fav_music_genre</th>\n",
       "      <th>music_time_slot</th>\n",
       "      <th>music_Influencial_mood</th>\n",
       "      <th>music_lis_frequency</th>\n",
       "      <th>music_expl_method</th>\n",
       "      <th>music_recc_rating</th>\n",
       "      <th>pod_lis_frequency</th>\n",
       "      <th>fav_pod_genre</th>\n",
       "      <th>preffered_pod_format</th>\n",
       "      <th>pod_host_preference</th>\n",
       "      <th>preffered_pod_duration</th>\n",
       "      <th>pod_variety_satisfaction</th>\n",
       "    </tr>\n",
       "  </thead>\n",
       "  <tbody>\n",
       "    <tr>\n",
       "      <th>0</th>\n",
       "      <td>20-35</td>\n",
       "      <td>Female</td>\n",
       "      <td>More than 2 years</td>\n",
       "      <td>Smart speakers or voice assistants</td>\n",
       "      <td>Free (ad-supported)</td>\n",
       "      <td>Yes</td>\n",
       "      <td>Family Plan-Rs 179/month</td>\n",
       "      <td>Podcast</td>\n",
       "      <td>Melody</td>\n",
       "      <td>Night</td>\n",
       "      <td>Sadness or melancholy</td>\n",
       "      <td>leisure time</td>\n",
       "      <td>Playlists</td>\n",
       "      <td>3</td>\n",
       "      <td>Daily</td>\n",
       "      <td>Comedy</td>\n",
       "      <td>Interview</td>\n",
       "      <td>Both</td>\n",
       "      <td>Both</td>\n",
       "      <td>Ok</td>\n",
       "    </tr>\n",
       "    <tr>\n",
       "      <th>1</th>\n",
       "      <td>12-20</td>\n",
       "      <td>Male</td>\n",
       "      <td>More than 2 years</td>\n",
       "      <td>Computer or laptop</td>\n",
       "      <td>Free (ad-supported)</td>\n",
       "      <td>Yes</td>\n",
       "      <td>Individual Plan- Rs 119/ month</td>\n",
       "      <td>Podcast</td>\n",
       "      <td>Rap</td>\n",
       "      <td>Afternoon</td>\n",
       "      <td>Social gatherings or parties</td>\n",
       "      <td>Workout session</td>\n",
       "      <td>Playlists</td>\n",
       "      <td>2</td>\n",
       "      <td>Several times a week</td>\n",
       "      <td>Comedy</td>\n",
       "      <td>Interview</td>\n",
       "      <td>Both</td>\n",
       "      <td>None</td>\n",
       "      <td>Satisfied</td>\n",
       "    </tr>\n",
       "    <tr>\n",
       "      <th>2</th>\n",
       "      <td>35-60</td>\n",
       "      <td>Others</td>\n",
       "      <td>6 months to 1 year</td>\n",
       "      <td>Smart speakers or voice assistants</td>\n",
       "      <td>Free (ad-supported)</td>\n",
       "      <td>Yes</td>\n",
       "      <td>Student Plan-Rs 59/month</td>\n",
       "      <td>Podcast</td>\n",
       "      <td>Pop</td>\n",
       "      <td>Night</td>\n",
       "      <td>Relaxation and stress relief</td>\n",
       "      <td>Study Hours, While Traveling</td>\n",
       "      <td>Playlists</td>\n",
       "      <td>4</td>\n",
       "      <td>Once a week</td>\n",
       "      <td>Sports</td>\n",
       "      <td>Interview</td>\n",
       "      <td>None</td>\n",
       "      <td>Both</td>\n",
       "      <td>Satisfied</td>\n",
       "    </tr>\n",
       "    <tr>\n",
       "      <th>3</th>\n",
       "      <td>20-35</td>\n",
       "      <td>Female</td>\n",
       "      <td>1 year to 2 years</td>\n",
       "      <td>Smartphone, Smart speakers or voice assistants</td>\n",
       "      <td>Free (ad-supported)</td>\n",
       "      <td>No</td>\n",
       "      <td>None</td>\n",
       "      <td>Music</td>\n",
       "      <td>Melody</td>\n",
       "      <td>Night</td>\n",
       "      <td>Relaxation and stress relief, Social gathering...</td>\n",
       "      <td>Office hours, Workout session, leisure time</td>\n",
       "      <td>recommendations, Playlists</td>\n",
       "      <td>4</td>\n",
       "      <td>Never</td>\n",
       "      <td>None</td>\n",
       "      <td>None</td>\n",
       "      <td>None</td>\n",
       "      <td>None</td>\n",
       "      <td>Ok</td>\n",
       "    </tr>\n",
       "    <tr>\n",
       "      <th>4</th>\n",
       "      <td>20-35</td>\n",
       "      <td>Female</td>\n",
       "      <td>1 year to 2 years</td>\n",
       "      <td>Smartphone</td>\n",
       "      <td>Free (ad-supported)</td>\n",
       "      <td>No</td>\n",
       "      <td>None</td>\n",
       "      <td>Music</td>\n",
       "      <td>Melody</td>\n",
       "      <td>Night</td>\n",
       "      <td>Relaxation and stress relief</td>\n",
       "      <td>leisure time</td>\n",
       "      <td>recommendations, Playlists</td>\n",
       "      <td>4</td>\n",
       "      <td>Rarely</td>\n",
       "      <td>Lifestyle and Health</td>\n",
       "      <td>Story telling</td>\n",
       "      <td>Well known individuals</td>\n",
       "      <td>Both</td>\n",
       "      <td>Ok</td>\n",
       "    </tr>\n",
       "  </tbody>\n",
       "</table>\n",
       "</div>"
      ],
      "text/plain": [
       "     Age  Gender spotify_usage_period  \\\n",
       "0  20-35  Female    More than 2 years   \n",
       "1  12-20    Male    More than 2 years   \n",
       "2  35-60  Others   6 months to 1 year   \n",
       "3  20-35  Female    1 year to 2 years   \n",
       "4  20-35  Female    1 year to 2 years   \n",
       "\n",
       "                         spotify_listening_device spotify_subscription_plan  \\\n",
       "0              Smart speakers or voice assistants       Free (ad-supported)   \n",
       "1                              Computer or laptop       Free (ad-supported)   \n",
       "2              Smart speakers or voice assistants       Free (ad-supported)   \n",
       "3  Smartphone, Smart speakers or voice assistants       Free (ad-supported)   \n",
       "4                                      Smartphone       Free (ad-supported)   \n",
       "\n",
       "  premium_sub_willingness          preffered_premium_plan  \\\n",
       "0                     Yes        Family Plan-Rs 179/month   \n",
       "1                     Yes  Individual Plan- Rs 119/ month   \n",
       "2                     Yes        Student Plan-Rs 59/month   \n",
       "3                      No                            None   \n",
       "4                      No                            None   \n",
       "\n",
       "  preferred_listening_content fav_music_genre music_time_slot  \\\n",
       "0                     Podcast          Melody           Night   \n",
       "1                     Podcast             Rap       Afternoon   \n",
       "2                     Podcast             Pop           Night   \n",
       "3                       Music          Melody           Night   \n",
       "4                       Music          Melody           Night   \n",
       "\n",
       "                              music_Influencial_mood  \\\n",
       "0                              Sadness or melancholy   \n",
       "1                       Social gatherings or parties   \n",
       "2                       Relaxation and stress relief   \n",
       "3  Relaxation and stress relief, Social gathering...   \n",
       "4                       Relaxation and stress relief   \n",
       "\n",
       "                           music_lis_frequency           music_expl_method  \\\n",
       "0                                 leisure time                   Playlists   \n",
       "1                              Workout session                   Playlists   \n",
       "2                 Study Hours, While Traveling                   Playlists   \n",
       "3  Office hours, Workout session, leisure time  recommendations, Playlists   \n",
       "4                                 leisure time  recommendations, Playlists   \n",
       "\n",
       "   music_recc_rating     pod_lis_frequency         fav_pod_genre  \\\n",
       "0                  3                 Daily                Comedy   \n",
       "1                  2  Several times a week                Comedy   \n",
       "2                  4           Once a week                Sports   \n",
       "3                  4                 Never                  None   \n",
       "4                  4                Rarely  Lifestyle and Health   \n",
       "\n",
       "  preffered_pod_format     pod_host_preference preffered_pod_duration  \\\n",
       "0            Interview                    Both                   Both   \n",
       "1            Interview                    Both                   None   \n",
       "2            Interview                    None                   Both   \n",
       "3                 None                    None                   None   \n",
       "4        Story telling  Well known individuals                   Both   \n",
       "\n",
       "  pod_variety_satisfaction  \n",
       "0                       Ok  \n",
       "1                Satisfied  \n",
       "2                Satisfied  \n",
       "3                       Ok  \n",
       "4                       Ok  "
      ]
     },
     "execution_count": 106,
     "metadata": {},
     "output_type": "execute_result"
    }
   ],
   "source": [
    "df = pd.read_csv(r\"C:\\Users\\ramvi\\OneDrive\\Desktop\\Spotify User Behavior Dataset - Sheet1.csv\")\n",
    "\n",
    "df.head()"
   ]
  },
  {
   "cell_type": "code",
   "execution_count": 107,
   "id": "22230c7e",
   "metadata": {},
   "outputs": [
    {
     "data": {
      "text/plain": [
       "(520, 20)"
      ]
     },
     "execution_count": 107,
     "metadata": {},
     "output_type": "execute_result"
    }
   ],
   "source": [
    "# check the shape\n",
    "\n",
    "df.shape"
   ]
  },
  {
   "cell_type": "code",
   "execution_count": 108,
   "id": "0bfaecff",
   "metadata": {},
   "outputs": [
    {
     "name": "stdout",
     "output_type": "stream",
     "text": [
      "<class 'pandas.core.frame.DataFrame'>\n",
      "RangeIndex: 520 entries, 0 to 519\n",
      "Data columns (total 20 columns):\n",
      " #   Column                       Non-Null Count  Dtype \n",
      "---  ------                       --------------  ----- \n",
      " 0   Age                          520 non-null    object\n",
      " 1   Gender                       520 non-null    object\n",
      " 2   spotify_usage_period         520 non-null    object\n",
      " 3   spotify_listening_device     520 non-null    object\n",
      " 4   spotify_subscription_plan    520 non-null    object\n",
      " 5   premium_sub_willingness      520 non-null    object\n",
      " 6   preffered_premium_plan       520 non-null    object\n",
      " 7   preferred_listening_content  520 non-null    object\n",
      " 8   fav_music_genre              520 non-null    object\n",
      " 9   music_time_slot              520 non-null    object\n",
      " 10  music_Influencial_mood       520 non-null    object\n",
      " 11  music_lis_frequency          520 non-null    object\n",
      " 12  music_expl_method            520 non-null    object\n",
      " 13  music_recc_rating            520 non-null    int64 \n",
      " 14  pod_lis_frequency            520 non-null    object\n",
      " 15  fav_pod_genre                520 non-null    object\n",
      " 16  preffered_pod_format         520 non-null    object\n",
      " 17  pod_host_preference          520 non-null    object\n",
      " 18  preffered_pod_duration       520 non-null    object\n",
      " 19  pod_variety_satisfaction     520 non-null    object\n",
      "dtypes: int64(1), object(19)\n",
      "memory usage: 81.4+ KB\n"
     ]
    }
   ],
   "source": [
    "# lets cehck the null and noises in the data\n",
    "\n",
    "df.info()\n",
    "\n",
    "# there no null value in the data "
   ]
  },
  {
   "cell_type": "code",
   "execution_count": 109,
   "id": "c7839bc8",
   "metadata": {},
   "outputs": [
    {
     "name": "stdout",
     "output_type": "stream",
     "text": [
      "Age \n",
      " object \n",
      " ['20-35' '12-20' '35-60' '6-12' '60+'] \n",
      "\n",
      "\n",
      "Gender \n",
      " object \n",
      " ['Female' 'Male' 'Others'] \n",
      "\n",
      "\n",
      "spotify_usage_period \n",
      " object \n",
      " ['More than 2 years' '6 months to 1 year' '1 year to 2 years'\n",
      " 'Less than 6 months'] \n",
      "\n",
      "\n",
      "spotify_listening_device \n",
      " object \n",
      " ['Smart speakers or voice assistants' 'Computer or laptop'\n",
      " 'Smartphone, Smart speakers or voice assistants' 'Smartphone'\n",
      " 'Smartphone, Computer or laptop'\n",
      " 'Smartphone, Computer or laptop, Smart speakers or voice assistants'\n",
      " 'Smartphone, Wearable devices'\n",
      " 'Smartphone, Computer or laptop, Wearable devices'\n",
      " 'Computer or laptop, Wearable devices'\n",
      " 'Smartphone, Computer or laptop, Smart speakers or voice assistants, Wearable devices'\n",
      " 'Wearable devices'\n",
      " 'Smartphone, Smart speakers or voice assistants, Wearable devices'\n",
      " 'Computer or laptop, Smart speakers or voice assistants'\n",
      " 'Computer or laptop, Smart speakers or voice assistants, Wearable devices'\n",
      " 'Smart speakers or voice assistants, Wearable devices'] \n",
      "\n",
      "\n",
      "spotify_subscription_plan \n",
      " object \n",
      " ['Free (ad-supported)' 'Premium (paid subscription)'] \n",
      "\n",
      "\n",
      "premium_sub_willingness \n",
      " object \n",
      " ['Yes' 'No'] \n",
      "\n",
      "\n",
      "preffered_premium_plan \n",
      " object \n",
      " ['Family Plan-Rs 179/month' 'Individual Plan- Rs 119/ month'\n",
      " 'Student Plan-Rs 59/month' 'None' 'Duo plan- Rs 149/month'] \n",
      "\n",
      "\n",
      "preferred_listening_content \n",
      " object \n",
      " ['Podcast' 'Music'] \n",
      "\n",
      "\n",
      "fav_music_genre \n",
      " object \n",
      " ['Melody' 'Rap' 'Pop' 'Classical & melody, dance' 'classical' 'Rock'\n",
      " 'Old songs' 'Electronic/Dance' 'All' 'Kpop' 'trending songs random'] \n",
      "\n",
      "\n",
      "music_time_slot \n",
      " object \n",
      " ['Night' 'Afternoon' 'Morning'] \n",
      "\n",
      "\n",
      "music_Influencial_mood \n",
      " object \n",
      " ['Sadness or melancholy' 'Social gatherings or parties'\n",
      " 'Relaxation and stress relief'\n",
      " 'Relaxation and stress relief, Social gatherings or parties'\n",
      " 'Uplifting and motivational'\n",
      " 'Relaxation and stress relief, Uplifting and motivational'\n",
      " 'Relaxation and stress relief, Uplifting and motivational, Sadness or melancholy, Social gatherings or parties'\n",
      " 'Relaxation and stress relief, Sadness or melancholy'\n",
      " 'Relaxation and stress relief, Uplifting and motivational, Social gatherings or parties'\n",
      " 'Relaxation and stress relief, Uplifting and motivational, Sadness or melancholy'\n",
      " 'Uplifting and motivational, Sadness or melancholy'\n",
      " 'Relaxation and stress relief, Sadness or melancholy, Social gatherings or parties'\n",
      " 'Sadness or melancholy, Social gatherings or parties'\n",
      " 'Uplifting and motivational, Sadness or melancholy, Social gatherings or parties'\n",
      " 'Uplifting and motivational, Social gatherings or parties'] \n",
      "\n",
      "\n",
      "music_lis_frequency \n",
      " object \n",
      " ['leisure time' 'Workout session' 'Study Hours, While Traveling'\n",
      " 'Office hours, Workout session, leisure time' 'Office hours'\n",
      " 'While Traveling, leisure time'\n",
      " 'Office hours, While Traveling, Workout session'\n",
      " 'Office hours, While Traveling'\n",
      " 'Office hours, While Traveling, leisure time' 'Social gatherings'\n",
      " 'While Traveling' 'While Traveling, Workout session, leisure time'\n",
      " 'Study Hours' 'Study Hours, leisure time'\n",
      " 'While Traveling, Workout session'\n",
      " 'Study Hours, Workout session, leisure time'\n",
      " 'Office hours, While Traveling,' 'Workout session, leisure time'\n",
      " 'While Traveling, Workout session, leisure time, Night time, when cooking'\n",
      " 'Office hours, While Traveling, Workout session, leisure time'\n",
      " 'Study Hours, While Traveling, Workout session, leisure time'\n",
      " 'Office hours, Study Hours, While Traveling, Workout session, leisure time'\n",
      " 'Office hours, leisure time' 'Study Hours, Workout session'\n",
      " 'Office hours, Study Hours, While Traveling, leisure time'\n",
      " 'Study Hours, While Traveling, leisure time'\n",
      " 'Office hours, Workout session'\n",
      " 'Office hours, Study Hours, While Traveling' 'Random'\n",
      " 'Study Hours, While Traveling, Workout session'\n",
      " 'Office hours, Study Hours, Workout session'\n",
      " 'While Traveling, Before bed'\n",
      " 'Office hours, Study Hours, While Traveling, Workout session'\n",
      " 'Office hours, Study Hours, While Traveling, Workout session, leisure time,'\n",
      " 'Office hours,Study Hours, While Traveling, leisure time'] \n",
      "\n",
      "\n",
      "music_expl_method \n",
      " object \n",
      " ['Playlists' 'recommendations, Playlists' 'Others' 'recommendations'\n",
      " 'Playlists, Radio' 'recommendations, Others'\n",
      " 'recommendations, Playlists, Radio' 'recommendations, Radio'\n",
      " 'recommendations, Playlists, Others' 'Radio' 'Radio, Others'\n",
      " 'Playlists, Others' 'Playlists, Radio, Others'\n",
      " 'recommendations, Radio, Others' 'recommendations,Others, Social media'\n",
      " 'Others, Social media' 'recommendations, Playlists, Radio, Others'\n",
      " 'Others, Friends' 'recommendations, Others, Social media'\n",
      " 'Others, Search'] \n",
      "\n",
      "\n",
      "music_recc_rating \n",
      " int64 \n",
      " [3 2 4 5 1] \n",
      "\n",
      "\n",
      "pod_lis_frequency \n",
      " object \n",
      " ['Daily' 'Several times a week' 'Once a week' 'Never' 'Rarely'] \n",
      "\n",
      "\n",
      "fav_pod_genre \n",
      " object \n",
      " ['Comedy' 'Sports' 'None' 'Lifestyle and Health' 'Business'\n",
      " 'Health and Fitness' 'Food and cooking' 'Everything' 'Informative stuff'\n",
      " 'Dance and Relevant cases' 'Technology' 'General knowledge'\n",
      " 'Spiritual and devotional' 'Finance related and current affairs'\n",
      " 'Murder Mystery' 'Political, informative, topics that interests me'\n",
      " 'Novels' 'Self help' 'Educational' 'Stories'] \n",
      "\n",
      "\n",
      "preffered_pod_format \n",
      " object \n",
      " ['Interview' 'None' 'Story telling' 'Conversational' 'Educational'] \n",
      "\n",
      "\n",
      "pod_host_preference \n",
      " object \n",
      " ['Both' 'None' 'Well known individuals' 'unknown Podcasters'] \n",
      "\n",
      "\n",
      "preffered_pod_duration \n",
      " object \n",
      " ['Both' 'None' 'Longer' 'Shorter'] \n",
      "\n",
      "\n",
      "pod_variety_satisfaction \n",
      " object \n",
      " ['Ok' 'Satisfied' 'Very Satisfied' 'Very Dissatisfied' 'Dissatisfied'] \n",
      "\n",
      "\n"
     ]
    }
   ],
   "source": [
    "# lest check the datatype and noises at the same time\n",
    "\n",
    "lst = [ c for c in df.columns ]\n",
    "\n",
    "for i in lst:\n",
    "    print(i ,\"\\n\" ,df[i].dtypes,\"\\n\",df[i].unique(),\"\\n\\n\")\n",
    "    \n",
    "# there is no noise in the data so we can move for analysis"
   ]
  },
  {
   "cell_type": "code",
   "execution_count": 110,
   "id": "dfc997d6",
   "metadata": {
    "scrolled": true
   },
   "outputs": [
    {
     "data": {
      "text/html": [
       "<div>\n",
       "<style scoped>\n",
       "    .dataframe tbody tr th:only-of-type {\n",
       "        vertical-align: middle;\n",
       "    }\n",
       "\n",
       "    .dataframe tbody tr th {\n",
       "        vertical-align: top;\n",
       "    }\n",
       "\n",
       "    .dataframe thead th {\n",
       "        text-align: right;\n",
       "    }\n",
       "</style>\n",
       "<table border=\"1\" class=\"dataframe\">\n",
       "  <thead>\n",
       "    <tr style=\"text-align: right;\">\n",
       "      <th></th>\n",
       "      <th>Age</th>\n",
       "      <th>Gender</th>\n",
       "      <th>spotify_usage_period</th>\n",
       "      <th>spotify_listening_device</th>\n",
       "      <th>spotify_subscription_plan</th>\n",
       "      <th>premium_sub_willingness</th>\n",
       "      <th>preffered_premium_plan</th>\n",
       "      <th>preferred_listening_content</th>\n",
       "      <th>fav_music_genre</th>\n",
       "      <th>music_time_slot</th>\n",
       "      <th>music_Influencial_mood</th>\n",
       "      <th>music_lis_frequency</th>\n",
       "      <th>music_expl_method</th>\n",
       "      <th>music_recc_rating</th>\n",
       "      <th>pod_lis_frequency</th>\n",
       "      <th>fav_pod_genre</th>\n",
       "      <th>preffered_pod_format</th>\n",
       "      <th>pod_host_preference</th>\n",
       "      <th>preffered_pod_duration</th>\n",
       "      <th>pod_variety_satisfaction</th>\n",
       "    </tr>\n",
       "  </thead>\n",
       "  <tbody>\n",
       "    <tr>\n",
       "      <th>0</th>\n",
       "      <td>20-35</td>\n",
       "      <td>Female</td>\n",
       "      <td>More than 2 years</td>\n",
       "      <td>Smart speakers or voice assistants</td>\n",
       "      <td>Free (ad-supported)</td>\n",
       "      <td>Yes</td>\n",
       "      <td>Family Plan-Rs 179/month</td>\n",
       "      <td>Podcast</td>\n",
       "      <td>Melody</td>\n",
       "      <td>Night</td>\n",
       "      <td>Sadness or melancholy</td>\n",
       "      <td>leisure time</td>\n",
       "      <td>Playlists</td>\n",
       "      <td>3</td>\n",
       "      <td>Daily</td>\n",
       "      <td>Comedy</td>\n",
       "      <td>Interview</td>\n",
       "      <td>Both</td>\n",
       "      <td>Both</td>\n",
       "      <td>Ok</td>\n",
       "    </tr>\n",
       "    <tr>\n",
       "      <th>1</th>\n",
       "      <td>12-20</td>\n",
       "      <td>Male</td>\n",
       "      <td>More than 2 years</td>\n",
       "      <td>Computer or laptop</td>\n",
       "      <td>Free (ad-supported)</td>\n",
       "      <td>Yes</td>\n",
       "      <td>Individual Plan- Rs 119/ month</td>\n",
       "      <td>Podcast</td>\n",
       "      <td>Rap</td>\n",
       "      <td>Afternoon</td>\n",
       "      <td>Social gatherings or parties</td>\n",
       "      <td>Workout session</td>\n",
       "      <td>Playlists</td>\n",
       "      <td>2</td>\n",
       "      <td>Several times a week</td>\n",
       "      <td>Comedy</td>\n",
       "      <td>Interview</td>\n",
       "      <td>Both</td>\n",
       "      <td>None</td>\n",
       "      <td>Satisfied</td>\n",
       "    </tr>\n",
       "    <tr>\n",
       "      <th>2</th>\n",
       "      <td>35-60</td>\n",
       "      <td>Others</td>\n",
       "      <td>6 months to 1 year</td>\n",
       "      <td>Smart speakers or voice assistants</td>\n",
       "      <td>Free (ad-supported)</td>\n",
       "      <td>Yes</td>\n",
       "      <td>Student Plan-Rs 59/month</td>\n",
       "      <td>Podcast</td>\n",
       "      <td>Pop</td>\n",
       "      <td>Night</td>\n",
       "      <td>Relaxation and stress relief</td>\n",
       "      <td>Study Hours, While Traveling</td>\n",
       "      <td>Playlists</td>\n",
       "      <td>4</td>\n",
       "      <td>Once a week</td>\n",
       "      <td>Sports</td>\n",
       "      <td>Interview</td>\n",
       "      <td>None</td>\n",
       "      <td>Both</td>\n",
       "      <td>Satisfied</td>\n",
       "    </tr>\n",
       "    <tr>\n",
       "      <th>3</th>\n",
       "      <td>20-35</td>\n",
       "      <td>Female</td>\n",
       "      <td>1 year to 2 years</td>\n",
       "      <td>Smartphone, Smart speakers or voice assistants</td>\n",
       "      <td>Free (ad-supported)</td>\n",
       "      <td>No</td>\n",
       "      <td>None</td>\n",
       "      <td>Music</td>\n",
       "      <td>Melody</td>\n",
       "      <td>Night</td>\n",
       "      <td>Relaxation and stress relief, Social gathering...</td>\n",
       "      <td>Office hours, Workout session, leisure time</td>\n",
       "      <td>recommendations, Playlists</td>\n",
       "      <td>4</td>\n",
       "      <td>Never</td>\n",
       "      <td>None</td>\n",
       "      <td>None</td>\n",
       "      <td>None</td>\n",
       "      <td>None</td>\n",
       "      <td>Ok</td>\n",
       "    </tr>\n",
       "    <tr>\n",
       "      <th>4</th>\n",
       "      <td>20-35</td>\n",
       "      <td>Female</td>\n",
       "      <td>1 year to 2 years</td>\n",
       "      <td>Smartphone</td>\n",
       "      <td>Free (ad-supported)</td>\n",
       "      <td>No</td>\n",
       "      <td>None</td>\n",
       "      <td>Music</td>\n",
       "      <td>Melody</td>\n",
       "      <td>Night</td>\n",
       "      <td>Relaxation and stress relief</td>\n",
       "      <td>leisure time</td>\n",
       "      <td>recommendations, Playlists</td>\n",
       "      <td>4</td>\n",
       "      <td>Rarely</td>\n",
       "      <td>Lifestyle and Health</td>\n",
       "      <td>Story telling</td>\n",
       "      <td>Well known individuals</td>\n",
       "      <td>Both</td>\n",
       "      <td>Ok</td>\n",
       "    </tr>\n",
       "  </tbody>\n",
       "</table>\n",
       "</div>"
      ],
      "text/plain": [
       "     Age  Gender spotify_usage_period  \\\n",
       "0  20-35  Female    More than 2 years   \n",
       "1  12-20    Male    More than 2 years   \n",
       "2  35-60  Others   6 months to 1 year   \n",
       "3  20-35  Female    1 year to 2 years   \n",
       "4  20-35  Female    1 year to 2 years   \n",
       "\n",
       "                         spotify_listening_device spotify_subscription_plan  \\\n",
       "0              Smart speakers or voice assistants       Free (ad-supported)   \n",
       "1                              Computer or laptop       Free (ad-supported)   \n",
       "2              Smart speakers or voice assistants       Free (ad-supported)   \n",
       "3  Smartphone, Smart speakers or voice assistants       Free (ad-supported)   \n",
       "4                                      Smartphone       Free (ad-supported)   \n",
       "\n",
       "  premium_sub_willingness          preffered_premium_plan  \\\n",
       "0                     Yes        Family Plan-Rs 179/month   \n",
       "1                     Yes  Individual Plan- Rs 119/ month   \n",
       "2                     Yes        Student Plan-Rs 59/month   \n",
       "3                      No                            None   \n",
       "4                      No                            None   \n",
       "\n",
       "  preferred_listening_content fav_music_genre music_time_slot  \\\n",
       "0                     Podcast          Melody           Night   \n",
       "1                     Podcast             Rap       Afternoon   \n",
       "2                     Podcast             Pop           Night   \n",
       "3                       Music          Melody           Night   \n",
       "4                       Music          Melody           Night   \n",
       "\n",
       "                              music_Influencial_mood  \\\n",
       "0                              Sadness or melancholy   \n",
       "1                       Social gatherings or parties   \n",
       "2                       Relaxation and stress relief   \n",
       "3  Relaxation and stress relief, Social gathering...   \n",
       "4                       Relaxation and stress relief   \n",
       "\n",
       "                           music_lis_frequency           music_expl_method  \\\n",
       "0                                 leisure time                   Playlists   \n",
       "1                              Workout session                   Playlists   \n",
       "2                 Study Hours, While Traveling                   Playlists   \n",
       "3  Office hours, Workout session, leisure time  recommendations, Playlists   \n",
       "4                                 leisure time  recommendations, Playlists   \n",
       "\n",
       "   music_recc_rating     pod_lis_frequency         fav_pod_genre  \\\n",
       "0                  3                 Daily                Comedy   \n",
       "1                  2  Several times a week                Comedy   \n",
       "2                  4           Once a week                Sports   \n",
       "3                  4                 Never                  None   \n",
       "4                  4                Rarely  Lifestyle and Health   \n",
       "\n",
       "  preffered_pod_format     pod_host_preference preffered_pod_duration  \\\n",
       "0            Interview                    Both                   Both   \n",
       "1            Interview                    Both                   None   \n",
       "2            Interview                    None                   Both   \n",
       "3                 None                    None                   None   \n",
       "4        Story telling  Well known individuals                   Both   \n",
       "\n",
       "  pod_variety_satisfaction  \n",
       "0                       Ok  \n",
       "1                Satisfied  \n",
       "2                Satisfied  \n",
       "3                       Ok  \n",
       "4                       Ok  "
      ]
     },
     "execution_count": 110,
     "metadata": {},
     "output_type": "execute_result"
    }
   ],
   "source": [
    "df.head()"
   ]
  },
  {
   "cell_type": "markdown",
   "id": "0c4360ca",
   "metadata": {},
   "source": [
    "# "
   ]
  },
  {
   "cell_type": "code",
   "execution_count": 111,
   "id": "7f37237f",
   "metadata": {
    "scrolled": false
   },
   "outputs": [
    {
     "data": {
      "image/png": "[encoded data removed]",
      "text/plain": [
       "<Figure size 576x360 with 1 Axes>"
      ]
     },
     "metadata": {
      "needs_background": "light"
     },
     "output_type": "display_data"
    }
   ],
   "source": [
    "# Age analysis\n",
    "\n",
    "plt.figure(figsize=(8, 5))\n",
    "df[\"Age\"].value_counts().plot(kind=\"bar\", color=\"orange\")\n",
    "plt.title(\"Distribution of Users by Age\")\n",
    "plt.xlabel(\"Age\")\n",
    "plt.ylabel(\"Number of Users\")\n",
    "plt.show()\n",
    "\n",
    "\n",
    "# The majority of Spotify users are in the 20-35 age range. \n",
    "# Spotify is popular among young adults."
   ]
  },
  {
   "cell_type": "markdown",
   "id": "1f9ac83c",
   "metadata": {},
   "source": [
    "# "
   ]
  },
  {
   "cell_type": "code",
   "execution_count": 112,
   "id": "922da84f",
   "metadata": {
    "scrolled": false
   },
   "outputs": [
    {
     "data": {
      "image/png": "[encoded data removed]",
      "text/plain": [
       "<Figure size 576x360 with 1 Axes>"
      ]
     },
     "metadata": {},
     "output_type": "display_data"
    }
   ],
   "source": [
    "# subscription plan analysis\n",
    "\n",
    "plt.figure(figsize=(8,5))\n",
    "subscription_counts = df[\"spotify_subscription_plan\"].value_counts()\n",
    "colors = [\"lightblue\", \"lightgreen\"]  # You can adjust colors if needed\n",
    "plt.pie(subscription_counts, labels=subscription_counts.index, colors=colors, autopct=\"%1.1f%%\", startangle=45)\n",
    "plt.title(\"Distribution of Users by Subscription Plan\")\n",
    "plt.show()\n",
    "\n",
    "\n",
    "# The majority of Spotify users are on the free tier. T\n",
    "# Spotify is still working to convert more users to premium subscriptions."
   ]
  },
  {
   "cell_type": "code",
   "execution_count": 113,
   "id": "aa4ed252",
   "metadata": {},
   "outputs": [
    {
     "data": {
      "image/png": "[encoded data removed]",
      "text/plain": [
       "<Figure size 576x360 with 1 Axes>"
      ]
     },
     "metadata": {},
     "output_type": "display_data"
    }
   ],
   "source": [
    "# Usage period analysis\n",
    "\n",
    "plt.figure(figsize=(8,5))\n",
    "period = df[\"spotify_usage_period\"].value_counts()\n",
    "colors = [\"lightgreen\", \"lightblue\",\"lightgray\",\"orange\"]  # You can adjust colors if needed\n",
    "plt.pie(period, labels=period.index, colors=colors, autopct=\"%1.1f%%\", startangle=45)\n",
    "plt.title(\"Distribution of Users by Subscription Plan\")\n",
    "plt.show()\n",
    "\n",
    "# The majority of Spotify users have been using the service for one and more than 2 years.\n",
    "# Spotify is still a relatively new service, and that it is growing rapidly."
   ]
  },
  {
   "cell_type": "markdown",
   "id": "b319ae69",
   "metadata": {},
   "source": [
    "# "
   ]
  },
  {
   "cell_type": "code",
   "execution_count": 114,
   "id": "5e9ffd37",
   "metadata": {},
   "outputs": [],
   "source": [
    "# df[\"spotify_listening_device\"].value_counts()"
   ]
  },
  {
   "cell_type": "code",
   "execution_count": 115,
   "id": "f368312b",
   "metadata": {},
   "outputs": [
    {
     "data": {
      "image/png": "[encoded data removed]",
      "text/plain": [
       "<Figure size 1080x360 with 1 Axes>"
      ]
     },
     "metadata": {
      "needs_background": "light"
     },
     "output_type": "display_data"
    }
   ],
   "source": [
    "# Listening device analysis\n",
    "\n",
    "plt.figure(figsize=(15,5))\n",
    "plt.xticks(rotation=45)\n",
    "\n",
    "\n",
    "df[\"spotify_listening_device\"].value_counts().plot(kind=\"bar\", color=\"green\")\n",
    "plt.title(\"Distribution of Users by Listening Device\")\n",
    "plt.xlabel(\"Listening Device\")\n",
    "plt.ylabel(\"Number of Users\")\n",
    "\n",
    "plt.show()\n",
    "\n",
    "\n",
    "# The most popular listening device for Spotify users is the smartphone. \n",
    "# Spotify is a very mobile-friendly service."
   ]
  },
  {
   "cell_type": "code",
   "execution_count": 116,
   "id": "e20ecd80",
   "metadata": {
    "scrolled": true
   },
   "outputs": [
    {
     "data": {
      "text/plain": [
       "<Figure size 576x360 with 0 Axes>"
      ]
     },
     "metadata": {},
     "output_type": "display_data"
    },
    {
     "data": {
      "image/png": "[encoded data removed]",
      "text/plain": [
       "<Figure size 576x360 with 1 Axes>"
      ]
     },
     "metadata": {},
     "output_type": "display_data"
    }
   ],
   "source": [
    "# Premium subscription willingness analysis\n",
    "\n",
    "plt.figure(figsize=(8, 5))\n",
    "\n",
    "plt.figure(figsize=(8,5))\n",
    "premium_sub_willingness_count = df[\"premium_sub_willingness\"].value_counts()\n",
    "colors = [\"lightgray\", \"lightgreen\"]  # You can adjust colors if needed\n",
    "plt.pie(premium_sub_willingness_count, labels=premium_sub_willingness_count.index, colors=colors, autopct=\"%1.1f%%\", startangle=45)\n",
    "plt.title(\"Distribution of Users by premium subcription users willingness to buy\")\n",
    "plt.show()\n",
    "\n",
    "\n",
    "# The majority of Spotify users are not willing to pay for a premium subscription. \n",
    "# Spotify need to increase conversion rate for generate a lot of revenue from premium subscriptions."
   ]
  },
  {
   "cell_type": "markdown",
   "id": "0dd4e908",
   "metadata": {},
   "source": [
    "# "
   ]
  },
  {
   "cell_type": "code",
   "execution_count": 117,
   "id": "9e7539d0",
   "metadata": {
    "scrolled": false
   },
   "outputs": [
    {
     "data": {
      "image/png": "[encoded data removed]",
      "text/plain": [
       "<Figure size 720x432 with 1 Axes>"
      ]
     },
     "metadata": {
      "needs_background": "light"
     },
     "output_type": "display_data"
    }
   ],
   "source": [
    "# Preferred premium plan analysis\n",
    "\n",
    "\n",
    "plt.figure(figsize=(10, 6))\n",
    "df[\"preffered_premium_plan\"].value_counts().plot(kind=\"bar\", color=\"red\")\n",
    "plt.title(\"Distribution of Users by Preferred Premium Plan\")\n",
    "plt.xlabel(\"Preferred Premium Plan\")\n",
    "plt.ylabel(\"Number of Users\")\n",
    "plt.show()\n",
    "\n",
    "\n",
    "# again the same thing a lot of user don't subscribe \n",
    "# The most popular premium plan is the Individual Plan and student. \n",
    "# most of Spotify users are only interested in subscribing for themselves."
   ]
  },
  {
   "cell_type": "code",
   "execution_count": 118,
   "id": "b7213544",
   "metadata": {},
   "outputs": [
    {
     "data": {
      "image/png": "[encoded data removed]",
      "text/plain": [
       "<Figure size 576x360 with 1 Axes>"
      ]
     },
     "metadata": {
      "needs_background": "light"
     },
     "output_type": "display_data"
    }
   ],
   "source": [
    "# Preferred listening content analysis\n",
    "\n",
    "plt.figure(figsize=(8, 5))\n",
    "df[\"preferred_listening_content\"].value_counts().plot(kind=\"bar\", color=\"purple\")\n",
    "plt.title(\"Distribution of Users by Preferred Listening Content\")\n",
    "plt.xlabel(\"Preferred Listening Content\")\n",
    "plt.ylabel(\"Number of Users\")\n",
    "plt.show()\n",
    "\n",
    "# The majority of Spotify users prefer to listen to music. \n",
    "# Spotify is primarily a music streaming service."
   ]
  },
  {
   "cell_type": "code",
   "execution_count": 119,
   "id": "033e11d4",
   "metadata": {},
   "outputs": [
    {
     "data": {
      "image/png": "[encoded data removed]",
      "text/plain": [
       "<Figure size 576x360 with 1 Axes>"
      ]
     },
     "metadata": {
      "needs_background": "light"
     },
     "output_type": "display_data"
    }
   ],
   "source": [
    "# Favorite music genre analysis\n",
    "\n",
    "plt.figure(figsize=(8, 5))\n",
    "df[\"fav_music_genre\"].value_counts().plot(kind=\"bar\", color=\"pink\")\n",
    "plt.title(\"Distribution of Users by Favorite Music Genre\")\n",
    "plt.xlabel(\"Favorite Music Genre\")\n",
    "plt.ylabel(\"Number of Users\")\n",
    "plt.show()\n",
    "\n",
    "# more than 50% of user love to listening the melody songs\n",
    "# The most popular music genres on Spotify are melody, classical, pop and rap. \n",
    "# Spotify users have a wide range of musical tastes."
   ]
  },
  {
   "cell_type": "code",
   "execution_count": 120,
   "id": "9666627d",
   "metadata": {},
   "outputs": [
    {
     "data": {
      "image/png": "[encoded data removed]",
      "text/plain": [
       "<Figure size 720x432 with 1 Axes>"
      ]
     },
     "metadata": {
      "needs_background": "light"
     },
     "output_type": "display_data"
    }
   ],
   "source": [
    "# Music time slot analysis\n",
    "\n",
    "plt.figure(figsize=(10, 6))\n",
    "df[\"music_time_slot\"].value_counts().plot(kind=\"bar\", color=\"cyan\")\n",
    "plt.title(\"Distribution of Users by Music Time Slot\")\n",
    "plt.xlabel(\"Music Time Slot\")\n",
    "plt.ylabel(\"Number of Users\")\n",
    "plt.show()\n",
    "\n",
    "# The most popular time slot for listening to music is night. \n",
    "# Spotify users use the service to relax and unwind after a long day."
   ]
  },
  {
   "cell_type": "code",
   "execution_count": 121,
   "id": "07081f1d",
   "metadata": {},
   "outputs": [
    {
     "data": {
      "image/png": "[encoded data removed]",
      "text/plain": [
       "<Figure size 720x432 with 1 Axes>"
      ]
     },
     "metadata": {
      "needs_background": "light"
     },
     "output_type": "display_data"
    }
   ],
   "source": [
    "# Music influential mood analysis\n",
    "\n",
    "plt.figure(figsize=(10, 6))\n",
    "df[\"music_Influencial_mood\"].value_counts().plot(kind=\"bar\", color=\"brown\")\n",
    "plt.title(\"Distribution of Users by Music Influential Mood\")\n",
    "plt.xlabel(\"Music Influential Mood\")\n",
    "plt.ylabel(\"Number of Users\")\n",
    "plt.show()\n",
    "\n",
    "# The most popular mood or situation that influences users' choice of music is relaxation and stress relief. \n",
    "# Spotify users use the service to de-stress and clear their minds."
   ]
  },
  {
   "cell_type": "code",
   "execution_count": 122,
   "id": "3d015e3f",
   "metadata": {
    "scrolled": false
   },
   "outputs": [
    {
     "data": {
      "image/png": "[encoded data removed]",
      "text/plain": [
       "<Figure size 720x432 with 1 Axes>"
      ]
     },
     "metadata": {
      "needs_background": "light"
     },
     "output_type": "display_data"
    }
   ],
   "source": [
    "# Podcast listening frequency analysis\n",
    "\n",
    "plt.figure(figsize=(10, 6))\n",
    "df[\"pod_lis_frequency\"].value_counts().plot(kind=\"bar\", color=\"gray\")\n",
    "plt.title(\"Distribution of Users by Podcast Listening Frequency\")\n",
    "plt.xlabel(\"Podcast Listening Frequency\")\n",
    "plt.ylabel(\"Number of Users\")\n",
    "plt.show()\n",
    "\n",
    "# The majority of Spotify users listen to music Rareley. \n",
    "# Spotify users are not much engaged with the service."
   ]
  },
  {
   "cell_type": "code",
   "execution_count": 123,
   "id": "0c9d8abf",
   "metadata": {
    "scrolled": true
   },
   "outputs": [
    {
     "data": {
      "image/png": "[encoded data removed]",
      "text/plain": [
       "<Figure size 720x432 with 1 Axes>"
      ]
     },
     "metadata": {
      "needs_background": "light"
     },
     "output_type": "display_data"
    }
   ],
   "source": [
    "# music_expl_method analysis\n",
    "\n",
    "\n",
    "plt.figure(figsize=(10, 6))\n",
    "df[\"music_expl_method\"].value_counts().plot(kind=\"bar\")\n",
    "plt.title(\"Distribution of Users by Music Listening Frequency\")\n",
    "plt.xlabel(\"Podcast Listening Frequency\")\n",
    "plt.ylabel(\"Number of Users\")\n",
    "plt.show()\n",
    "\n",
    "# The most popular method for discovering new music on Spotify is through the playlist and recommendation.\n",
    "# Spotify's algorithmic recommendations are very effective."
   ]
  },
  {
   "cell_type": "code",
   "execution_count": 124,
   "id": "a27484d8",
   "metadata": {
    "scrolled": true
   },
   "outputs": [
    {
     "data": {
      "image/png": "[encoded data removed]",
      "text/plain": [
       "<Figure size 576x432 with 1 Axes>"
      ]
     },
     "metadata": {
      "needs_background": "light"
     },
     "output_type": "display_data"
    }
   ],
   "source": [
    "# pod_variety_satisfaction analysis\n",
    "\n",
    "plt.figure(figsize=(8,6))\n",
    "(df[\"pod_variety_satisfaction\"].value_counts()).plot(kind=\"bar\")\n",
    "plt.title(\"ueser satisfaction by podcast\")\n",
    "plt.xlabel(\"podcast listing requency\")\n",
    "plt.ylabel(\"number of users\")\n",
    "plt.show()\n",
    "\n",
    "# The majority of Spotify users are ok with service and satisfied with Spotify's music recommendations. \n",
    "# users are finding the music they want to listen to."
   ]
  },
  {
   "cell_type": "code",
   "execution_count": 125,
   "id": "03202c54",
   "metadata": {},
   "outputs": [
    {
     "data": {
      "text/plain": [
       "3.503846153846154"
      ]
     },
     "execution_count": 125,
     "metadata": {},
     "output_type": "execute_result"
    }
   ],
   "source": [
    "# rating analysis\n",
    "\n",
    "df[\"music_recc_rating\"].mean()\n",
    "\n",
    "# the average rating is also good \n",
    "# the music recomendation algorithem are good"
   ]
  },
  {
   "cell_type": "code",
   "execution_count": 126,
   "id": "1e020aaf",
   "metadata": {
    "scrolled": true
   },
   "outputs": [
    {
     "data": {
      "text/html": [
       "<div>\n",
       "<style scoped>\n",
       "    .dataframe tbody tr th:only-of-type {\n",
       "        vertical-align: middle;\n",
       "    }\n",
       "\n",
       "    .dataframe tbody tr th {\n",
       "        vertical-align: top;\n",
       "    }\n",
       "\n",
       "    .dataframe thead th {\n",
       "        text-align: right;\n",
       "    }\n",
       "</style>\n",
       "<table border=\"1\" class=\"dataframe\">\n",
       "  <thead>\n",
       "    <tr style=\"text-align: right;\">\n",
       "      <th></th>\n",
       "      <th>Age</th>\n",
       "      <th>Gender</th>\n",
       "      <th>spotify_usage_period</th>\n",
       "      <th>spotify_listening_device</th>\n",
       "      <th>spotify_subscription_plan</th>\n",
       "      <th>premium_sub_willingness</th>\n",
       "      <th>preffered_premium_plan</th>\n",
       "      <th>preferred_listening_content</th>\n",
       "      <th>fav_music_genre</th>\n",
       "      <th>music_time_slot</th>\n",
       "      <th>...</th>\n",
       "      <th>music_lis_frequency</th>\n",
       "      <th>music_expl_method</th>\n",
       "      <th>music_recc_rating</th>\n",
       "      <th>pod_lis_frequency</th>\n",
       "      <th>fav_pod_genre</th>\n",
       "      <th>preffered_pod_format</th>\n",
       "      <th>pod_host_preference</th>\n",
       "      <th>preffered_pod_duration</th>\n",
       "      <th>pod_variety_satisfaction</th>\n",
       "      <th>Age_Mean</th>\n",
       "    </tr>\n",
       "  </thead>\n",
       "  <tbody>\n",
       "    <tr>\n",
       "      <th>0</th>\n",
       "      <td>20-35</td>\n",
       "      <td>Female</td>\n",
       "      <td>More than 2 years</td>\n",
       "      <td>Smart speakers or voice assistants</td>\n",
       "      <td>Free (ad-supported)</td>\n",
       "      <td>Yes</td>\n",
       "      <td>Family Plan-Rs 179/month</td>\n",
       "      <td>Podcast</td>\n",
       "      <td>Melody</td>\n",
       "      <td>Night</td>\n",
       "      <td>...</td>\n",
       "      <td>leisure time</td>\n",
       "      <td>Playlists</td>\n",
       "      <td>3</td>\n",
       "      <td>Daily</td>\n",
       "      <td>Comedy</td>\n",
       "      <td>Interview</td>\n",
       "      <td>Both</td>\n",
       "      <td>Both</td>\n",
       "      <td>Ok</td>\n",
       "      <td>37.5</td>\n",
       "    </tr>\n",
       "    <tr>\n",
       "      <th>1</th>\n",
       "      <td>12-20</td>\n",
       "      <td>Male</td>\n",
       "      <td>More than 2 years</td>\n",
       "      <td>Computer or laptop</td>\n",
       "      <td>Free (ad-supported)</td>\n",
       "      <td>Yes</td>\n",
       "      <td>Individual Plan- Rs 119/ month</td>\n",
       "      <td>Podcast</td>\n",
       "      <td>Rap</td>\n",
       "      <td>Afternoon</td>\n",
       "      <td>...</td>\n",
       "      <td>Workout session</td>\n",
       "      <td>Playlists</td>\n",
       "      <td>2</td>\n",
       "      <td>Several times a week</td>\n",
       "      <td>Comedy</td>\n",
       "      <td>Interview</td>\n",
       "      <td>Both</td>\n",
       "      <td>None</td>\n",
       "      <td>Satisfied</td>\n",
       "      <td>22.0</td>\n",
       "    </tr>\n",
       "    <tr>\n",
       "      <th>2</th>\n",
       "      <td>35-60</td>\n",
       "      <td>Others</td>\n",
       "      <td>6 months to 1 year</td>\n",
       "      <td>Smart speakers or voice assistants</td>\n",
       "      <td>Free (ad-supported)</td>\n",
       "      <td>Yes</td>\n",
       "      <td>Student Plan-Rs 59/month</td>\n",
       "      <td>Podcast</td>\n",
       "      <td>Pop</td>\n",
       "      <td>Night</td>\n",
       "      <td>...</td>\n",
       "      <td>Study Hours, While Traveling</td>\n",
       "      <td>Playlists</td>\n",
       "      <td>4</td>\n",
       "      <td>Once a week</td>\n",
       "      <td>Sports</td>\n",
       "      <td>Interview</td>\n",
       "      <td>None</td>\n",
       "      <td>Both</td>\n",
       "      <td>Satisfied</td>\n",
       "      <td>65.0</td>\n",
       "    </tr>\n",
       "    <tr>\n",
       "      <th>3</th>\n",
       "      <td>20-35</td>\n",
       "      <td>Female</td>\n",
       "      <td>1 year to 2 years</td>\n",
       "      <td>Smartphone, Smart speakers or voice assistants</td>\n",
       "      <td>Free (ad-supported)</td>\n",
       "      <td>No</td>\n",
       "      <td>None</td>\n",
       "      <td>Music</td>\n",
       "      <td>Melody</td>\n",
       "      <td>Night</td>\n",
       "      <td>...</td>\n",
       "      <td>Office hours, Workout session, leisure time</td>\n",
       "      <td>recommendations, Playlists</td>\n",
       "      <td>4</td>\n",
       "      <td>Never</td>\n",
       "      <td>None</td>\n",
       "      <td>None</td>\n",
       "      <td>None</td>\n",
       "      <td>None</td>\n",
       "      <td>Ok</td>\n",
       "      <td>37.5</td>\n",
       "    </tr>\n",
       "    <tr>\n",
       "      <th>4</th>\n",
       "      <td>20-35</td>\n",
       "      <td>Female</td>\n",
       "      <td>1 year to 2 years</td>\n",
       "      <td>Smartphone</td>\n",
       "      <td>Free (ad-supported)</td>\n",
       "      <td>No</td>\n",
       "      <td>None</td>\n",
       "      <td>Music</td>\n",
       "      <td>Melody</td>\n",
       "      <td>Night</td>\n",
       "      <td>...</td>\n",
       "      <td>leisure time</td>\n",
       "      <td>recommendations, Playlists</td>\n",
       "      <td>4</td>\n",
       "      <td>Rarely</td>\n",
       "      <td>Lifestyle and Health</td>\n",
       "      <td>Story telling</td>\n",
       "      <td>Well known individuals</td>\n",
       "      <td>Both</td>\n",
       "      <td>Ok</td>\n",
       "      <td>37.5</td>\n",
       "    </tr>\n",
       "  </tbody>\n",
       "</table>\n",
       "<p>5 rows × 21 columns</p>\n",
       "</div>"
      ],
      "text/plain": [
       "     Age  Gender spotify_usage_period  \\\n",
       "0  20-35  Female    More than 2 years   \n",
       "1  12-20    Male    More than 2 years   \n",
       "2  35-60  Others   6 months to 1 year   \n",
       "3  20-35  Female    1 year to 2 years   \n",
       "4  20-35  Female    1 year to 2 years   \n",
       "\n",
       "                         spotify_listening_device spotify_subscription_plan  \\\n",
       "0              Smart speakers or voice assistants       Free (ad-supported)   \n",
       "1                              Computer or laptop       Free (ad-supported)   \n",
       "2              Smart speakers or voice assistants       Free (ad-supported)   \n",
       "3  Smartphone, Smart speakers or voice assistants       Free (ad-supported)   \n",
       "4                                      Smartphone       Free (ad-supported)   \n",
       "\n",
       "  premium_sub_willingness          preffered_premium_plan  \\\n",
       "0                     Yes        Family Plan-Rs 179/month   \n",
       "1                     Yes  Individual Plan- Rs 119/ month   \n",
       "2                     Yes        Student Plan-Rs 59/month   \n",
       "3                      No                            None   \n",
       "4                      No                            None   \n",
       "\n",
       "  preferred_listening_content fav_music_genre music_time_slot  ...  \\\n",
       "0                     Podcast          Melody           Night  ...   \n",
       "1                     Podcast             Rap       Afternoon  ...   \n",
       "2                     Podcast             Pop           Night  ...   \n",
       "3                       Music          Melody           Night  ...   \n",
       "4                       Music          Melody           Night  ...   \n",
       "\n",
       "                           music_lis_frequency           music_expl_method  \\\n",
       "0                                 leisure time                   Playlists   \n",
       "1                              Workout session                   Playlists   \n",
       "2                 Study Hours, While Traveling                   Playlists   \n",
       "3  Office hours, Workout session, leisure time  recommendations, Playlists   \n",
       "4                                 leisure time  recommendations, Playlists   \n",
       "\n",
       "  music_recc_rating     pod_lis_frequency         fav_pod_genre  \\\n",
       "0                 3                 Daily                Comedy   \n",
       "1                 2  Several times a week                Comedy   \n",
       "2                 4           Once a week                Sports   \n",
       "3                 4                 Never                  None   \n",
       "4                 4                Rarely  Lifestyle and Health   \n",
       "\n",
       "  preffered_pod_format     pod_host_preference preffered_pod_duration  \\\n",
       "0            Interview                    Both                   Both   \n",
       "1            Interview                    Both                   None   \n",
       "2            Interview                    None                   Both   \n",
       "3                 None                    None                   None   \n",
       "4        Story telling  Well known individuals                   Both   \n",
       "\n",
       "  pod_variety_satisfaction Age_Mean  \n",
       "0                       Ok     37.5  \n",
       "1                Satisfied     22.0  \n",
       "2                Satisfied     65.0  \n",
       "3                       Ok     37.5  \n",
       "4                       Ok     37.5  \n",
       "\n",
       "[5 rows x 21 columns]"
      ]
     },
     "execution_count": 126,
     "metadata": {},
     "output_type": "execute_result"
    }
   ],
   "source": [
    "# lets check the age vs rating\n",
    "\n",
    "a = df[\"Age\"].str.split(\"-\")\n",
    "\n",
    "b = []\n",
    "\n",
    "for i in a:\n",
    "    if len(i)==2:\n",
    "        b.append(int(i[0].replace(\"+\",\"\"))+int(i[1])/len(i))\n",
    "    else:\n",
    "        b.append(int(i[0].replace(\"+\",\"\")))\n",
    "\n",
    "df[\"Age_Mean\"] = b\n",
    "\n",
    "df.head()"
   ]
  },
  {
   "cell_type": "code",
   "execution_count": 127,
   "id": "5c1cbd24",
   "metadata": {},
   "outputs": [
    {
     "data": {
      "image/png": "[encoded data removed]",
      "text/plain": [
       "<Figure size 432x288 with 1 Axes>"
      ]
     },
     "metadata": {
      "needs_background": "light"
     },
     "output_type": "display_data"
    }
   ],
   "source": [
    "# Calculate the Pearson correlation coefficient between the Age and Rating.\n",
    "\n",
    "correlation_coefficient = np.corrcoef(df[\"Age_Mean\"], df[\"music_recc_rating\"])[0, 1]\n",
    "\n",
    "\n",
    "plt.scatter(df[\"Age_Mean\"], df[\"music_recc_rating\"], color='blue')\n",
    "plt.xlabel('Age')\n",
    "plt.ylabel('Rating')\n",
    "plt.title('Scatter Plot of Age vs. Rating')\n",
    "plt.grid(True)\n",
    "\n",
    "plt.text(30, 4.5, f'Correlation: {correlation_coefficient:.2f}', fontsize=12, color='red')\n",
    "plt.show()"
   ]
  },
  {
   "cell_type": "code",
   "execution_count": 128,
   "id": "25d6ddad",
   "metadata": {},
   "outputs": [],
   "source": [
    "# lets do machine learning part and pridict premium_sub_willingness\n",
    "\n",
    "od = df.copy()"
   ]
  },
  {
   "cell_type": "code",
   "execution_count": null,
   "id": "63c9dbad",
   "metadata": {},
   "outputs": [],
   "source": []
  },
  {
   "cell_type": "code",
   "execution_count": 129,
   "id": "cb7ec962",
   "metadata": {
    "scrolled": true
   },
   "outputs": [
    {
     "data": {
      "text/plain": [
       "3.503846153846154"
      ]
     },
     "execution_count": 129,
     "metadata": {},
     "output_type": "execute_result"
    }
   ],
   "source": [
    "# rating analysis\n",
    "\n",
    "df[\"music_recc_rating\"].mean()\n",
    "\n",
    "# the average rating is also good \n",
    "# the music recomendation algorithem are good"
   ]
  },
  {
   "cell_type": "markdown",
   "id": "dc2a7cb7",
   "metadata": {},
   "source": [
    "# "
   ]
  },
  {
   "cell_type": "code",
   "execution_count": 130,
   "id": "0cf2a486",
   "metadata": {
    "scrolled": false
   },
   "outputs": [
    {
     "data": {
      "text/html": [
       "<div>\n",
       "<style scoped>\n",
       "    .dataframe tbody tr th:only-of-type {\n",
       "        vertical-align: middle;\n",
       "    }\n",
       "\n",
       "    .dataframe tbody tr th {\n",
       "        vertical-align: top;\n",
       "    }\n",
       "\n",
       "    .dataframe thead th {\n",
       "        text-align: right;\n",
       "    }\n",
       "</style>\n",
       "<table border=\"1\" class=\"dataframe\">\n",
       "  <thead>\n",
       "    <tr style=\"text-align: right;\">\n",
       "      <th></th>\n",
       "      <th>Age</th>\n",
       "      <th>Gender</th>\n",
       "      <th>spotify_usage_period</th>\n",
       "      <th>spotify_listening_device</th>\n",
       "      <th>spotify_subscription_plan</th>\n",
       "      <th>premium_sub_willingness</th>\n",
       "      <th>preffered_premium_plan</th>\n",
       "      <th>preferred_listening_content</th>\n",
       "      <th>fav_music_genre</th>\n",
       "      <th>music_time_slot</th>\n",
       "      <th>...</th>\n",
       "      <th>music_lis_frequency</th>\n",
       "      <th>music_expl_method</th>\n",
       "      <th>music_recc_rating</th>\n",
       "      <th>pod_lis_frequency</th>\n",
       "      <th>fav_pod_genre</th>\n",
       "      <th>preffered_pod_format</th>\n",
       "      <th>pod_host_preference</th>\n",
       "      <th>preffered_pod_duration</th>\n",
       "      <th>pod_variety_satisfaction</th>\n",
       "      <th>Age_Mean</th>\n",
       "    </tr>\n",
       "  </thead>\n",
       "  <tbody>\n",
       "    <tr>\n",
       "      <th>0</th>\n",
       "      <td>20-35</td>\n",
       "      <td>Female</td>\n",
       "      <td>More than 2 years</td>\n",
       "      <td>Smart speakers or voice assistants</td>\n",
       "      <td>Free (ad-supported)</td>\n",
       "      <td>Yes</td>\n",
       "      <td>Family Plan-Rs 179/month</td>\n",
       "      <td>Podcast</td>\n",
       "      <td>Melody</td>\n",
       "      <td>Night</td>\n",
       "      <td>...</td>\n",
       "      <td>leisure time</td>\n",
       "      <td>Playlists</td>\n",
       "      <td>3</td>\n",
       "      <td>Daily</td>\n",
       "      <td>Comedy</td>\n",
       "      <td>Interview</td>\n",
       "      <td>Both</td>\n",
       "      <td>Both</td>\n",
       "      <td>Ok</td>\n",
       "      <td>37.5</td>\n",
       "    </tr>\n",
       "    <tr>\n",
       "      <th>1</th>\n",
       "      <td>12-20</td>\n",
       "      <td>Male</td>\n",
       "      <td>More than 2 years</td>\n",
       "      <td>Computer or laptop</td>\n",
       "      <td>Free (ad-supported)</td>\n",
       "      <td>Yes</td>\n",
       "      <td>Individual Plan- Rs 119/ month</td>\n",
       "      <td>Podcast</td>\n",
       "      <td>Rap</td>\n",
       "      <td>Afternoon</td>\n",
       "      <td>...</td>\n",
       "      <td>Workout session</td>\n",
       "      <td>Playlists</td>\n",
       "      <td>2</td>\n",
       "      <td>Several times a week</td>\n",
       "      <td>Comedy</td>\n",
       "      <td>Interview</td>\n",
       "      <td>Both</td>\n",
       "      <td>None</td>\n",
       "      <td>Satisfied</td>\n",
       "      <td>22.0</td>\n",
       "    </tr>\n",
       "    <tr>\n",
       "      <th>2</th>\n",
       "      <td>35-60</td>\n",
       "      <td>Others</td>\n",
       "      <td>6 months to 1 year</td>\n",
       "      <td>Smart speakers or voice assistants</td>\n",
       "      <td>Free (ad-supported)</td>\n",
       "      <td>Yes</td>\n",
       "      <td>Student Plan-Rs 59/month</td>\n",
       "      <td>Podcast</td>\n",
       "      <td>Pop</td>\n",
       "      <td>Night</td>\n",
       "      <td>...</td>\n",
       "      <td>Study Hours, While Traveling</td>\n",
       "      <td>Playlists</td>\n",
       "      <td>4</td>\n",
       "      <td>Once a week</td>\n",
       "      <td>Sports</td>\n",
       "      <td>Interview</td>\n",
       "      <td>None</td>\n",
       "      <td>Both</td>\n",
       "      <td>Satisfied</td>\n",
       "      <td>65.0</td>\n",
       "    </tr>\n",
       "    <tr>\n",
       "      <th>3</th>\n",
       "      <td>20-35</td>\n",
       "      <td>Female</td>\n",
       "      <td>1 year to 2 years</td>\n",
       "      <td>Smartphone, Smart speakers or voice assistants</td>\n",
       "      <td>Free (ad-supported)</td>\n",
       "      <td>No</td>\n",
       "      <td>None</td>\n",
       "      <td>Music</td>\n",
       "      <td>Melody</td>\n",
       "      <td>Night</td>\n",
       "      <td>...</td>\n",
       "      <td>Office hours, Workout session, leisure time</td>\n",
       "      <td>recommendations, Playlists</td>\n",
       "      <td>4</td>\n",
       "      <td>Never</td>\n",
       "      <td>None</td>\n",
       "      <td>None</td>\n",
       "      <td>None</td>\n",
       "      <td>None</td>\n",
       "      <td>Ok</td>\n",
       "      <td>37.5</td>\n",
       "    </tr>\n",
       "    <tr>\n",
       "      <th>4</th>\n",
       "      <td>20-35</td>\n",
       "      <td>Female</td>\n",
       "      <td>1 year to 2 years</td>\n",
       "      <td>Smartphone</td>\n",
       "      <td>Free (ad-supported)</td>\n",
       "      <td>No</td>\n",
       "      <td>None</td>\n",
       "      <td>Music</td>\n",
       "      <td>Melody</td>\n",
       "      <td>Night</td>\n",
       "      <td>...</td>\n",
       "      <td>leisure time</td>\n",
       "      <td>recommendations, Playlists</td>\n",
       "      <td>4</td>\n",
       "      <td>Rarely</td>\n",
       "      <td>Lifestyle and Health</td>\n",
       "      <td>Story telling</td>\n",
       "      <td>Well known individuals</td>\n",
       "      <td>Both</td>\n",
       "      <td>Ok</td>\n",
       "      <td>37.5</td>\n",
       "    </tr>\n",
       "  </tbody>\n",
       "</table>\n",
       "<p>5 rows × 21 columns</p>\n",
       "</div>"
      ],
      "text/plain": [
       "     Age  Gender spotify_usage_period  \\\n",
       "0  20-35  Female    More than 2 years   \n",
       "1  12-20    Male    More than 2 years   \n",
       "2  35-60  Others   6 months to 1 year   \n",
       "3  20-35  Female    1 year to 2 years   \n",
       "4  20-35  Female    1 year to 2 years   \n",
       "\n",
       "                         spotify_listening_device spotify_subscription_plan  \\\n",
       "0              Smart speakers or voice assistants       Free (ad-supported)   \n",
       "1                              Computer or laptop       Free (ad-supported)   \n",
       "2              Smart speakers or voice assistants       Free (ad-supported)   \n",
       "3  Smartphone, Smart speakers or voice assistants       Free (ad-supported)   \n",
       "4                                      Smartphone       Free (ad-supported)   \n",
       "\n",
       "  premium_sub_willingness          preffered_premium_plan  \\\n",
       "0                     Yes        Family Plan-Rs 179/month   \n",
       "1                     Yes  Individual Plan- Rs 119/ month   \n",
       "2                     Yes        Student Plan-Rs 59/month   \n",
       "3                      No                            None   \n",
       "4                      No                            None   \n",
       "\n",
       "  preferred_listening_content fav_music_genre music_time_slot  ...  \\\n",
       "0                     Podcast          Melody           Night  ...   \n",
       "1                     Podcast             Rap       Afternoon  ...   \n",
       "2                     Podcast             Pop           Night  ...   \n",
       "3                       Music          Melody           Night  ...   \n",
       "4                       Music          Melody           Night  ...   \n",
       "\n",
       "                           music_lis_frequency           music_expl_method  \\\n",
       "0                                 leisure time                   Playlists   \n",
       "1                              Workout session                   Playlists   \n",
       "2                 Study Hours, While Traveling                   Playlists   \n",
       "3  Office hours, Workout session, leisure time  recommendations, Playlists   \n",
       "4                                 leisure time  recommendations, Playlists   \n",
       "\n",
       "  music_recc_rating     pod_lis_frequency         fav_pod_genre  \\\n",
       "0                 3                 Daily                Comedy   \n",
       "1                 2  Several times a week                Comedy   \n",
       "2                 4           Once a week                Sports   \n",
       "3                 4                 Never                  None   \n",
       "4                 4                Rarely  Lifestyle and Health   \n",
       "\n",
       "  preffered_pod_format     pod_host_preference preffered_pod_duration  \\\n",
       "0            Interview                    Both                   Both   \n",
       "1            Interview                    Both                   None   \n",
       "2            Interview                    None                   Both   \n",
       "3                 None                    None                   None   \n",
       "4        Story telling  Well known individuals                   Both   \n",
       "\n",
       "  pod_variety_satisfaction Age_Mean  \n",
       "0                       Ok     37.5  \n",
       "1                Satisfied     22.0  \n",
       "2                Satisfied     65.0  \n",
       "3                       Ok     37.5  \n",
       "4                       Ok     37.5  \n",
       "\n",
       "[5 rows x 21 columns]"
      ]
     },
     "execution_count": 130,
     "metadata": {},
     "output_type": "execute_result"
    }
   ],
   "source": [
    "df.head()"
   ]
  },
  {
   "cell_type": "markdown",
   "id": "9072f500",
   "metadata": {},
   "source": [
    "# "
   ]
  },
  {
   "cell_type": "code",
   "execution_count": 131,
   "id": "5cc9c06e",
   "metadata": {},
   "outputs": [],
   "source": [
    "# leabel encodeing to numerical data\n",
    "\n",
    "# import the liabrery for encoding\n",
    "\n",
    "from sklearn.preprocessing import LabelEncoder\n",
    "le = LabelEncoder()\n",
    "\n",
    "lst = [ x for x in df.columns if od[x].dtypes == \"object\"]\n",
    "\n",
    "for i in lst:\n",
    "    od[i] = le.fit_transform(od[i])"
   ]
  },
  {
   "cell_type": "code",
   "execution_count": 132,
   "id": "0d3d94ec",
   "metadata": {},
   "outputs": [
    {
     "data": {
      "text/html": [
       "<div>\n",
       "<style scoped>\n",
       "    .dataframe tbody tr th:only-of-type {\n",
       "        vertical-align: middle;\n",
       "    }\n",
       "\n",
       "    .dataframe tbody tr th {\n",
       "        vertical-align: top;\n",
       "    }\n",
       "\n",
       "    .dataframe thead th {\n",
       "        text-align: right;\n",
       "    }\n",
       "</style>\n",
       "<table border=\"1\" class=\"dataframe\">\n",
       "  <thead>\n",
       "    <tr style=\"text-align: right;\">\n",
       "      <th></th>\n",
       "      <th>Age</th>\n",
       "      <th>Gender</th>\n",
       "      <th>spotify_usage_period</th>\n",
       "      <th>spotify_listening_device</th>\n",
       "      <th>spotify_subscription_plan</th>\n",
       "      <th>premium_sub_willingness</th>\n",
       "      <th>preffered_premium_plan</th>\n",
       "      <th>preferred_listening_content</th>\n",
       "      <th>fav_music_genre</th>\n",
       "      <th>music_time_slot</th>\n",
       "      <th>...</th>\n",
       "      <th>music_lis_frequency</th>\n",
       "      <th>music_expl_method</th>\n",
       "      <th>music_recc_rating</th>\n",
       "      <th>pod_lis_frequency</th>\n",
       "      <th>fav_pod_genre</th>\n",
       "      <th>preffered_pod_format</th>\n",
       "      <th>pod_host_preference</th>\n",
       "      <th>preffered_pod_duration</th>\n",
       "      <th>pod_variety_satisfaction</th>\n",
       "      <th>Age_Mean</th>\n",
       "    </tr>\n",
       "  </thead>\n",
       "  <tbody>\n",
       "    <tr>\n",
       "      <th>0</th>\n",
       "      <td>1</td>\n",
       "      <td>0</td>\n",
       "      <td>3</td>\n",
       "      <td>4</td>\n",
       "      <td>0</td>\n",
       "      <td>1</td>\n",
       "      <td>1</td>\n",
       "      <td>1</td>\n",
       "      <td>4</td>\n",
       "      <td>2</td>\n",
       "      <td>...</td>\n",
       "      <td>34</td>\n",
       "      <td>4</td>\n",
       "      <td>3</td>\n",
       "      <td>0</td>\n",
       "      <td>1</td>\n",
       "      <td>2</td>\n",
       "      <td>0</td>\n",
       "      <td>0</td>\n",
       "      <td>1</td>\n",
       "      <td>37.5</td>\n",
       "    </tr>\n",
       "    <tr>\n",
       "      <th>1</th>\n",
       "      <td>0</td>\n",
       "      <td>1</td>\n",
       "      <td>3</td>\n",
       "      <td>0</td>\n",
       "      <td>0</td>\n",
       "      <td>1</td>\n",
       "      <td>2</td>\n",
       "      <td>1</td>\n",
       "      <td>7</td>\n",
       "      <td>0</td>\n",
       "      <td>...</td>\n",
       "      <td>32</td>\n",
       "      <td>4</td>\n",
       "      <td>2</td>\n",
       "      <td>4</td>\n",
       "      <td>1</td>\n",
       "      <td>2</td>\n",
       "      <td>0</td>\n",
       "      <td>2</td>\n",
       "      <td>2</td>\n",
       "      <td>22.0</td>\n",
       "    </tr>\n",
       "    <tr>\n",
       "      <th>2</th>\n",
       "      <td>2</td>\n",
       "      <td>2</td>\n",
       "      <td>1</td>\n",
       "      <td>4</td>\n",
       "      <td>0</td>\n",
       "      <td>1</td>\n",
       "      <td>4</td>\n",
       "      <td>1</td>\n",
       "      <td>6</td>\n",
       "      <td>2</td>\n",
       "      <td>...</td>\n",
       "      <td>19</td>\n",
       "      <td>4</td>\n",
       "      <td>4</td>\n",
       "      <td>2</td>\n",
       "      <td>17</td>\n",
       "      <td>2</td>\n",
       "      <td>1</td>\n",
       "      <td>0</td>\n",
       "      <td>2</td>\n",
       "      <td>65.0</td>\n",
       "    </tr>\n",
       "    <tr>\n",
       "      <th>3</th>\n",
       "      <td>1</td>\n",
       "      <td>0</td>\n",
       "      <td>0</td>\n",
       "      <td>11</td>\n",
       "      <td>0</td>\n",
       "      <td>0</td>\n",
       "      <td>3</td>\n",
       "      <td>0</td>\n",
       "      <td>4</td>\n",
       "      <td>2</td>\n",
       "      <td>...</td>\n",
       "      <td>13</td>\n",
       "      <td>13</td>\n",
       "      <td>4</td>\n",
       "      <td>1</td>\n",
       "      <td>12</td>\n",
       "      <td>3</td>\n",
       "      <td>1</td>\n",
       "      <td>2</td>\n",
       "      <td>1</td>\n",
       "      <td>37.5</td>\n",
       "    </tr>\n",
       "    <tr>\n",
       "      <th>4</th>\n",
       "      <td>1</td>\n",
       "      <td>0</td>\n",
       "      <td>0</td>\n",
       "      <td>6</td>\n",
       "      <td>0</td>\n",
       "      <td>0</td>\n",
       "      <td>3</td>\n",
       "      <td>0</td>\n",
       "      <td>4</td>\n",
       "      <td>2</td>\n",
       "      <td>...</td>\n",
       "      <td>34</td>\n",
       "      <td>13</td>\n",
       "      <td>4</td>\n",
       "      <td>3</td>\n",
       "      <td>10</td>\n",
       "      <td>4</td>\n",
       "      <td>2</td>\n",
       "      <td>0</td>\n",
       "      <td>1</td>\n",
       "      <td>37.5</td>\n",
       "    </tr>\n",
       "  </tbody>\n",
       "</table>\n",
       "<p>5 rows × 21 columns</p>\n",
       "</div>"
      ],
      "text/plain": [
       "   Age  Gender  spotify_usage_period  spotify_listening_device  \\\n",
       "0    1       0                     3                         4   \n",
       "1    0       1                     3                         0   \n",
       "2    2       2                     1                         4   \n",
       "3    1       0                     0                        11   \n",
       "4    1       0                     0                         6   \n",
       "\n",
       "   spotify_subscription_plan  premium_sub_willingness  preffered_premium_plan  \\\n",
       "0                          0                        1                       1   \n",
       "1                          0                        1                       2   \n",
       "2                          0                        1                       4   \n",
       "3                          0                        0                       3   \n",
       "4                          0                        0                       3   \n",
       "\n",
       "   preferred_listening_content  fav_music_genre  music_time_slot  ...  \\\n",
       "0                            1                4                2  ...   \n",
       "1                            1                7                0  ...   \n",
       "2                            1                6                2  ...   \n",
       "3                            0                4                2  ...   \n",
       "4                            0                4                2  ...   \n",
       "\n",
       "   music_lis_frequency  music_expl_method  music_recc_rating  \\\n",
       "0                   34                  4                  3   \n",
       "1                   32                  4                  2   \n",
       "2                   19                  4                  4   \n",
       "3                   13                 13                  4   \n",
       "4                   34                 13                  4   \n",
       "\n",
       "   pod_lis_frequency  fav_pod_genre  preffered_pod_format  \\\n",
       "0                  0              1                     2   \n",
       "1                  4              1                     2   \n",
       "2                  2             17                     2   \n",
       "3                  1             12                     3   \n",
       "4                  3             10                     4   \n",
       "\n",
       "   pod_host_preference  preffered_pod_duration  pod_variety_satisfaction  \\\n",
       "0                    0                       0                         1   \n",
       "1                    0                       2                         2   \n",
       "2                    1                       0                         2   \n",
       "3                    1                       2                         1   \n",
       "4                    2                       0                         1   \n",
       "\n",
       "   Age_Mean  \n",
       "0      37.5  \n",
       "1      22.0  \n",
       "2      65.0  \n",
       "3      37.5  \n",
       "4      37.5  \n",
       "\n",
       "[5 rows x 21 columns]"
      ]
     },
     "execution_count": 132,
     "metadata": {},
     "output_type": "execute_result"
    }
   ],
   "source": [
    "od.head()"
   ]
  },
  {
   "cell_type": "markdown",
   "id": "1ff72942",
   "metadata": {},
   "source": [
    "# "
   ]
  },
  {
   "cell_type": "code",
   "execution_count": 133,
   "id": "c676dd88",
   "metadata": {},
   "outputs": [],
   "source": [
    "# get the train and test data\n",
    "\n",
    "x= od.drop(\"premium_sub_willingness\",axis=1).values\n",
    "y = od[\"premium_sub_willingness\"].values"
   ]
  },
  {
   "cell_type": "code",
   "execution_count": 134,
   "id": "fbc54ea4",
   "metadata": {},
   "outputs": [],
   "source": [
    "# xtarin and ytran test data\n",
    "\n",
    "from sklearn.model_selection import train_test_split\n",
    "xtrain,xtest,ytrain,ytest = train_test_split(x,y,test_size=0.2,random_state=2)"
   ]
  },
  {
   "cell_type": "markdown",
   "id": "30445e38",
   "metadata": {},
   "source": [
    "# "
   ]
  },
  {
   "cell_type": "code",
   "execution_count": 135,
   "id": "005a2f3e",
   "metadata": {},
   "outputs": [],
   "source": [
    "# import the standard scaler to scale the values\n",
    "\n",
    "from sklearn.preprocessing import StandardScaler\n",
    "sc = StandardScaler()"
   ]
  },
  {
   "cell_type": "code",
   "execution_count": 136,
   "id": "5a6e0efb",
   "metadata": {},
   "outputs": [],
   "source": [
    "# standardise the column \n",
    "\n",
    "xtrain = sc.fit_transform(xtrain)\n",
    "xtest = sc.fit_transform(xtest)"
   ]
  },
  {
   "cell_type": "markdown",
   "id": "629fa725",
   "metadata": {},
   "source": [
    "# "
   ]
  },
  {
   "cell_type": "markdown",
   "id": "9644320a",
   "metadata": {},
   "source": [
    "# Logistic regression model"
   ]
  },
  {
   "cell_type": "code",
   "execution_count": 160,
   "id": "0fc03205",
   "metadata": {},
   "outputs": [],
   "source": [
    "# import the logistc regreassion model\n",
    "\n",
    "# from sklearn.linear_model import LogisticRegression\n",
    "# log = LogisticRegression()"
   ]
  },
  {
   "cell_type": "code",
   "execution_count": 161,
   "id": "c9282598",
   "metadata": {},
   "outputs": [],
   "source": [
    "# # train the model\n",
    "\n",
    "# log.fit(xtrain,ytrain)"
   ]
  },
  {
   "cell_type": "code",
   "execution_count": 162,
   "id": "038c42b3",
   "metadata": {},
   "outputs": [],
   "source": [
    "# # predict the value\n",
    "# ypred_log = log.predict(xtest)"
   ]
  },
  {
   "cell_type": "code",
   "execution_count": 163,
   "id": "24c49bcd",
   "metadata": {},
   "outputs": [],
   "source": [
    "# # check the accuracy of model\n",
    "\n",
    "# from sklearn.metrics import roc_auc_score\n",
    "# roc_auc_score(ytest,ypred_log)"
   ]
  },
  {
   "cell_type": "markdown",
   "id": "5332979f",
   "metadata": {},
   "source": [
    "# "
   ]
  },
  {
   "cell_type": "markdown",
   "id": "444e4ac1",
   "metadata": {},
   "source": [
    "# RANDOM FOREST"
   ]
  },
  {
   "cell_type": "code",
   "execution_count": 164,
   "id": "e31ae65e",
   "metadata": {
    "scrolled": false
   },
   "outputs": [
    {
     "data": {
      "text/html": [
       "<div>\n",
       "<style scoped>\n",
       "    .dataframe tbody tr th:only-of-type {\n",
       "        vertical-align: middle;\n",
       "    }\n",
       "\n",
       "    .dataframe tbody tr th {\n",
       "        vertical-align: top;\n",
       "    }\n",
       "\n",
       "    .dataframe thead th {\n",
       "        text-align: right;\n",
       "    }\n",
       "</style>\n",
       "<table border=\"1\" class=\"dataframe\">\n",
       "  <thead>\n",
       "    <tr style=\"text-align: right;\">\n",
       "      <th></th>\n",
       "      <th>Age</th>\n",
       "      <th>Gender</th>\n",
       "      <th>spotify_usage_period</th>\n",
       "      <th>spotify_listening_device</th>\n",
       "      <th>spotify_subscription_plan</th>\n",
       "      <th>premium_sub_willingness</th>\n",
       "      <th>preffered_premium_plan</th>\n",
       "      <th>preferred_listening_content</th>\n",
       "      <th>fav_music_genre</th>\n",
       "      <th>music_time_slot</th>\n",
       "      <th>...</th>\n",
       "      <th>music_lis_frequency</th>\n",
       "      <th>music_expl_method</th>\n",
       "      <th>music_recc_rating</th>\n",
       "      <th>pod_lis_frequency</th>\n",
       "      <th>fav_pod_genre</th>\n",
       "      <th>preffered_pod_format</th>\n",
       "      <th>pod_host_preference</th>\n",
       "      <th>preffered_pod_duration</th>\n",
       "      <th>pod_variety_satisfaction</th>\n",
       "      <th>Age_Mean</th>\n",
       "    </tr>\n",
       "  </thead>\n",
       "  <tbody>\n",
       "    <tr>\n",
       "      <th>0</th>\n",
       "      <td>20-35</td>\n",
       "      <td>Female</td>\n",
       "      <td>More than 2 years</td>\n",
       "      <td>Smart speakers or voice assistants</td>\n",
       "      <td>Free (ad-supported)</td>\n",
       "      <td>Yes</td>\n",
       "      <td>Family Plan-Rs 179/month</td>\n",
       "      <td>Podcast</td>\n",
       "      <td>Melody</td>\n",
       "      <td>Night</td>\n",
       "      <td>...</td>\n",
       "      <td>leisure time</td>\n",
       "      <td>Playlists</td>\n",
       "      <td>3</td>\n",
       "      <td>Daily</td>\n",
       "      <td>Comedy</td>\n",
       "      <td>Interview</td>\n",
       "      <td>Both</td>\n",
       "      <td>Both</td>\n",
       "      <td>Ok</td>\n",
       "      <td>37.5</td>\n",
       "    </tr>\n",
       "    <tr>\n",
       "      <th>1</th>\n",
       "      <td>12-20</td>\n",
       "      <td>Male</td>\n",
       "      <td>More than 2 years</td>\n",
       "      <td>Computer or laptop</td>\n",
       "      <td>Free (ad-supported)</td>\n",
       "      <td>Yes</td>\n",
       "      <td>Individual Plan- Rs 119/ month</td>\n",
       "      <td>Podcast</td>\n",
       "      <td>Rap</td>\n",
       "      <td>Afternoon</td>\n",
       "      <td>...</td>\n",
       "      <td>Workout session</td>\n",
       "      <td>Playlists</td>\n",
       "      <td>2</td>\n",
       "      <td>Several times a week</td>\n",
       "      <td>Comedy</td>\n",
       "      <td>Interview</td>\n",
       "      <td>Both</td>\n",
       "      <td>None</td>\n",
       "      <td>Satisfied</td>\n",
       "      <td>22.0</td>\n",
       "    </tr>\n",
       "    <tr>\n",
       "      <th>2</th>\n",
       "      <td>35-60</td>\n",
       "      <td>Others</td>\n",
       "      <td>6 months to 1 year</td>\n",
       "      <td>Smart speakers or voice assistants</td>\n",
       "      <td>Free (ad-supported)</td>\n",
       "      <td>Yes</td>\n",
       "      <td>Student Plan-Rs 59/month</td>\n",
       "      <td>Podcast</td>\n",
       "      <td>Pop</td>\n",
       "      <td>Night</td>\n",
       "      <td>...</td>\n",
       "      <td>Study Hours, While Traveling</td>\n",
       "      <td>Playlists</td>\n",
       "      <td>4</td>\n",
       "      <td>Once a week</td>\n",
       "      <td>Sports</td>\n",
       "      <td>Interview</td>\n",
       "      <td>None</td>\n",
       "      <td>Both</td>\n",
       "      <td>Satisfied</td>\n",
       "      <td>65.0</td>\n",
       "    </tr>\n",
       "    <tr>\n",
       "      <th>3</th>\n",
       "      <td>20-35</td>\n",
       "      <td>Female</td>\n",
       "      <td>1 year to 2 years</td>\n",
       "      <td>Smartphone, Smart speakers or voice assistants</td>\n",
       "      <td>Free (ad-supported)</td>\n",
       "      <td>No</td>\n",
       "      <td>None</td>\n",
       "      <td>Music</td>\n",
       "      <td>Melody</td>\n",
       "      <td>Night</td>\n",
       "      <td>...</td>\n",
       "      <td>Office hours, Workout session, leisure time</td>\n",
       "      <td>recommendations, Playlists</td>\n",
       "      <td>4</td>\n",
       "      <td>Never</td>\n",
       "      <td>None</td>\n",
       "      <td>None</td>\n",
       "      <td>None</td>\n",
       "      <td>None</td>\n",
       "      <td>Ok</td>\n",
       "      <td>37.5</td>\n",
       "    </tr>\n",
       "    <tr>\n",
       "      <th>4</th>\n",
       "      <td>20-35</td>\n",
       "      <td>Female</td>\n",
       "      <td>1 year to 2 years</td>\n",
       "      <td>Smartphone</td>\n",
       "      <td>Free (ad-supported)</td>\n",
       "      <td>No</td>\n",
       "      <td>None</td>\n",
       "      <td>Music</td>\n",
       "      <td>Melody</td>\n",
       "      <td>Night</td>\n",
       "      <td>...</td>\n",
       "      <td>leisure time</td>\n",
       "      <td>recommendations, Playlists</td>\n",
       "      <td>4</td>\n",
       "      <td>Rarely</td>\n",
       "      <td>Lifestyle and Health</td>\n",
       "      <td>Story telling</td>\n",
       "      <td>Well known individuals</td>\n",
       "      <td>Both</td>\n",
       "      <td>Ok</td>\n",
       "      <td>37.5</td>\n",
       "    </tr>\n",
       "  </tbody>\n",
       "</table>\n",
       "<p>5 rows × 21 columns</p>\n",
       "</div>"
      ],
      "text/plain": [
       "     Age  Gender spotify_usage_period  \\\n",
       "0  20-35  Female    More than 2 years   \n",
       "1  12-20    Male    More than 2 years   \n",
       "2  35-60  Others   6 months to 1 year   \n",
       "3  20-35  Female    1 year to 2 years   \n",
       "4  20-35  Female    1 year to 2 years   \n",
       "\n",
       "                         spotify_listening_device spotify_subscription_plan  \\\n",
       "0              Smart speakers or voice assistants       Free (ad-supported)   \n",
       "1                              Computer or laptop       Free (ad-supported)   \n",
       "2              Smart speakers or voice assistants       Free (ad-supported)   \n",
       "3  Smartphone, Smart speakers or voice assistants       Free (ad-supported)   \n",
       "4                                      Smartphone       Free (ad-supported)   \n",
       "\n",
       "  premium_sub_willingness          preffered_premium_plan  \\\n",
       "0                     Yes        Family Plan-Rs 179/month   \n",
       "1                     Yes  Individual Plan- Rs 119/ month   \n",
       "2                     Yes        Student Plan-Rs 59/month   \n",
       "3                      No                            None   \n",
       "4                      No                            None   \n",
       "\n",
       "  preferred_listening_content fav_music_genre music_time_slot  ...  \\\n",
       "0                     Podcast          Melody           Night  ...   \n",
       "1                     Podcast             Rap       Afternoon  ...   \n",
       "2                     Podcast             Pop           Night  ...   \n",
       "3                       Music          Melody           Night  ...   \n",
       "4                       Music          Melody           Night  ...   \n",
       "\n",
       "                           music_lis_frequency           music_expl_method  \\\n",
       "0                                 leisure time                   Playlists   \n",
       "1                              Workout session                   Playlists   \n",
       "2                 Study Hours, While Traveling                   Playlists   \n",
       "3  Office hours, Workout session, leisure time  recommendations, Playlists   \n",
       "4                                 leisure time  recommendations, Playlists   \n",
       "\n",
       "  music_recc_rating     pod_lis_frequency         fav_pod_genre  \\\n",
       "0                 3                 Daily                Comedy   \n",
       "1                 2  Several times a week                Comedy   \n",
       "2                 4           Once a week                Sports   \n",
       "3                 4                 Never                  None   \n",
       "4                 4                Rarely  Lifestyle and Health   \n",
       "\n",
       "  preffered_pod_format     pod_host_preference preffered_pod_duration  \\\n",
       "0            Interview                    Both                   Both   \n",
       "1            Interview                    Both                   None   \n",
       "2            Interview                    None                   Both   \n",
       "3                 None                    None                   None   \n",
       "4        Story telling  Well known individuals                   Both   \n",
       "\n",
       "  pod_variety_satisfaction Age_Mean  \n",
       "0                       Ok     37.5  \n",
       "1                Satisfied     22.0  \n",
       "2                Satisfied     65.0  \n",
       "3                       Ok     37.5  \n",
       "4                       Ok     37.5  \n",
       "\n",
       "[5 rows x 21 columns]"
      ]
     },
     "execution_count": 164,
     "metadata": {},
     "output_type": "execute_result"
    }
   ],
   "source": [
    "df.head()"
   ]
  },
  {
   "cell_type": "code",
   "execution_count": 165,
   "id": "37fb115a",
   "metadata": {},
   "outputs": [],
   "source": [
    "# lest get the x and y \n",
    "\n",
    "x  = od.drop(\"premium_sub_willingness\",axis=1).values\n",
    "y = od[\"premium_sub_willingness\"].values"
   ]
  },
  {
   "cell_type": "code",
   "execution_count": 166,
   "id": "3a319632",
   "metadata": {},
   "outputs": [],
   "source": [
    "# xtrantest and ytraintest\n",
    "\n",
    "from sklearn.model_selection import train_test_split\n",
    "xtrain,xtest,ytrain,ytest = train_test_split(x,y,test_size=0.2,random_state=2)"
   ]
  },
  {
   "cell_type": "code",
   "execution_count": 167,
   "id": "394e7e5f",
   "metadata": {},
   "outputs": [],
   "source": [
    "random_grid = {\n",
    "    \"n_estimators\" : [10,20,30,40],\n",
    "    \"max_features\" : [\"sqrt\",\"log2\"],\n",
    "    \"max_depth\"    : [5,6,7,8],\n",
    "    \"criterion\"    : [\"gini\",\"entrop\"],\n",
    "    \"min_samples_split\" : [3,4,5]\n",
    "}"
   ]
  },
  {
   "cell_type": "code",
   "execution_count": 168,
   "id": "092aec5e",
   "metadata": {},
   "outputs": [],
   "source": [
    "# call the mdoel\n",
    "\n",
    "from sklearn.ensemble import RandomForestClassifier\n",
    "rf = RandomForestClassifier()"
   ]
  },
  {
   "cell_type": "code",
   "execution_count": 169,
   "id": "f7d233de",
   "metadata": {},
   "outputs": [],
   "source": [
    "# get the best param\n",
    "\n",
    "from sklearn.model_selection import RandomizedSearchCV\n",
    "rcv = RandomizedSearchCV(estimator=rf,param_distributions=random_grid,cv=5,n_iter=25,n_jobs=-1)"
   ]
  },
  {
   "cell_type": "markdown",
   "id": "304f205c",
   "metadata": {},
   "source": [
    "# "
   ]
  },
  {
   "cell_type": "code",
   "execution_count": 170,
   "id": "738242a2",
   "metadata": {},
   "outputs": [
    {
     "name": "stderr",
     "output_type": "stream",
     "text": [
      "C:\\Users\\ramvi\\anaconda3\\lib\\site-packages\\sklearn\\model_selection\\_validation.py:372: FitFailedWarning: \n",
      "55 fits failed out of a total of 125.\n",
      "The score on these train-test partitions for these parameters will be set to nan.\n",
      "If these failures are not expected, you can try to debug them by setting error_score='raise'.\n",
      "\n",
      "Below are more details about the failures:\n",
      "--------------------------------------------------------------------------------\n",
      "55 fits failed with the following error:\n",
      "Traceback (most recent call last):\n",
      "  File \"C:\\Users\\ramvi\\anaconda3\\lib\\site-packages\\sklearn\\model_selection\\_validation.py\", line 680, in _fit_and_score\n",
      "    estimator.fit(X_train, y_train, **fit_params)\n",
      "  File \"C:\\Users\\ramvi\\anaconda3\\lib\\site-packages\\sklearn\\ensemble\\_forest.py\", line 450, in fit\n",
      "    trees = Parallel(\n",
      "  File \"C:\\Users\\ramvi\\anaconda3\\lib\\site-packages\\joblib\\parallel.py\", line 1043, in __call__\n",
      "    if self.dispatch_one_batch(iterator):\n",
      "  File \"C:\\Users\\ramvi\\anaconda3\\lib\\site-packages\\joblib\\parallel.py\", line 861, in dispatch_one_batch\n",
      "    self._dispatch(tasks)\n",
      "  File \"C:\\Users\\ramvi\\anaconda3\\lib\\site-packages\\joblib\\parallel.py\", line 779, in _dispatch\n",
      "    job = self._backend.apply_async(batch, callback=cb)\n",
      "  File \"C:\\Users\\ramvi\\anaconda3\\lib\\site-packages\\joblib\\_parallel_backends.py\", line 208, in apply_async\n",
      "    result = ImmediateResult(func)\n",
      "  File \"C:\\Users\\ramvi\\anaconda3\\lib\\site-packages\\joblib\\_parallel_backends.py\", line 572, in __init__\n",
      "    self.results = batch()\n",
      "  File \"C:\\Users\\ramvi\\anaconda3\\lib\\site-packages\\joblib\\parallel.py\", line 262, in __call__\n",
      "    return [func(*args, **kwargs)\n",
      "  File \"C:\\Users\\ramvi\\anaconda3\\lib\\site-packages\\joblib\\parallel.py\", line 262, in <listcomp>\n",
      "    return [func(*args, **kwargs)\n",
      "  File \"C:\\Users\\ramvi\\anaconda3\\lib\\site-packages\\sklearn\\utils\\fixes.py\", line 216, in __call__\n",
      "    return self.function(*args, **kwargs)\n",
      "  File \"C:\\Users\\ramvi\\anaconda3\\lib\\site-packages\\sklearn\\ensemble\\_forest.py\", line 185, in _parallel_build_trees\n",
      "    tree.fit(X, y, sample_weight=curr_sample_weight, check_input=False)\n",
      "  File \"C:\\Users\\ramvi\\anaconda3\\lib\\site-packages\\sklearn\\tree\\_classes.py\", line 937, in fit\n",
      "    super().fit(\n",
      "  File \"C:\\Users\\ramvi\\anaconda3\\lib\\site-packages\\sklearn\\tree\\_classes.py\", line 352, in fit\n",
      "    criterion = CRITERIA_CLF[self.criterion](\n",
      "KeyError: 'entrop'\n",
      "\n",
      "  warnings.warn(some_fits_failed_message, FitFailedWarning)\n",
      "C:\\Users\\ramvi\\anaconda3\\lib\\site-packages\\sklearn\\model_selection\\_search.py:969: UserWarning: One or more of the test scores are non-finite: [       nan 0.79096386 0.78605852        nan 0.7668101  0.79331612\n",
      "        nan 0.77412507        nan 0.76930579 0.77409639        nan\n",
      "        nan 0.78146873        nan 0.78129662        nan        nan\n",
      " 0.77888698 0.78376363 0.79569707        nan 0.78608721 0.7788296\n",
      "        nan]\n",
      "  warnings.warn(\n"
     ]
    },
    {
     "data": {
      "text/plain": [
       "RandomizedSearchCV(cv=5, estimator=RandomForestClassifier(), n_iter=25,\n",
       "                   n_jobs=-1,\n",
       "                   param_distributions={'criterion': ['gini', 'entrop'],\n",
       "                                        'max_depth': [5, 6, 7, 8],\n",
       "                                        'max_features': ['sqrt', 'log2'],\n",
       "                                        'min_samples_split': [3, 4, 5],\n",
       "                                        'n_estimators': [10, 20, 30, 40]})"
      ]
     },
     "execution_count": 170,
     "metadata": {},
     "output_type": "execute_result"
    }
   ],
   "source": [
    "rcv.fit(xtrain,ytrain)"
   ]
  },
  {
   "cell_type": "code",
   "execution_count": 171,
   "id": "604c039c",
   "metadata": {},
   "outputs": [],
   "source": [
    "from sklearn.ensemble import RandomForestClassifier\n",
    "rf = RandomForestClassifier()"
   ]
  },
  {
   "cell_type": "code",
   "execution_count": 172,
   "id": "602aa5ce",
   "metadata": {},
   "outputs": [],
   "source": [
    "from sklearn.model_selection import RandomizedSearchCV\n",
    "rcv = RandomizedSearchCV(estimator=rf,param_distributions=random_grid,cv=5,n_iter=25,n_jobs=-1)"
   ]
  },
  {
   "cell_type": "markdown",
   "id": "5d693279",
   "metadata": {},
   "source": [
    "# "
   ]
  },
  {
   "cell_type": "code",
   "execution_count": 173,
   "id": "54c08ec7",
   "metadata": {
    "scrolled": false
   },
   "outputs": [
    {
     "name": "stderr",
     "output_type": "stream",
     "text": [
      "C:\\Users\\ramvi\\anaconda3\\lib\\site-packages\\sklearn\\model_selection\\_validation.py:372: FitFailedWarning: \n",
      "70 fits failed out of a total of 125.\n",
      "The score on these train-test partitions for these parameters will be set to nan.\n",
      "If these failures are not expected, you can try to debug them by setting error_score='raise'.\n",
      "\n",
      "Below are more details about the failures:\n",
      "--------------------------------------------------------------------------------\n",
      "70 fits failed with the following error:\n",
      "Traceback (most recent call last):\n",
      "  File \"C:\\Users\\ramvi\\anaconda3\\lib\\site-packages\\sklearn\\model_selection\\_validation.py\", line 680, in _fit_and_score\n",
      "    estimator.fit(X_train, y_train, **fit_params)\n",
      "  File \"C:\\Users\\ramvi\\anaconda3\\lib\\site-packages\\sklearn\\ensemble\\_forest.py\", line 450, in fit\n",
      "    trees = Parallel(\n",
      "  File \"C:\\Users\\ramvi\\anaconda3\\lib\\site-packages\\joblib\\parallel.py\", line 1043, in __call__\n",
      "    if self.dispatch_one_batch(iterator):\n",
      "  File \"C:\\Users\\ramvi\\anaconda3\\lib\\site-packages\\joblib\\parallel.py\", line 861, in dispatch_one_batch\n",
      "    self._dispatch(tasks)\n",
      "  File \"C:\\Users\\ramvi\\anaconda3\\lib\\site-packages\\joblib\\parallel.py\", line 779, in _dispatch\n",
      "    job = self._backend.apply_async(batch, callback=cb)\n",
      "  File \"C:\\Users\\ramvi\\anaconda3\\lib\\site-packages\\joblib\\_parallel_backends.py\", line 208, in apply_async\n",
      "    result = ImmediateResult(func)\n",
      "  File \"C:\\Users\\ramvi\\anaconda3\\lib\\site-packages\\joblib\\_parallel_backends.py\", line 572, in __init__\n",
      "    self.results = batch()\n",
      "  File \"C:\\Users\\ramvi\\anaconda3\\lib\\site-packages\\joblib\\parallel.py\", line 262, in __call__\n",
      "    return [func(*args, **kwargs)\n",
      "  File \"C:\\Users\\ramvi\\anaconda3\\lib\\site-packages\\joblib\\parallel.py\", line 262, in <listcomp>\n",
      "    return [func(*args, **kwargs)\n",
      "  File \"C:\\Users\\ramvi\\anaconda3\\lib\\site-packages\\sklearn\\utils\\fixes.py\", line 216, in __call__\n",
      "    return self.function(*args, **kwargs)\n",
      "  File \"C:\\Users\\ramvi\\anaconda3\\lib\\site-packages\\sklearn\\ensemble\\_forest.py\", line 185, in _parallel_build_trees\n",
      "    tree.fit(X, y, sample_weight=curr_sample_weight, check_input=False)\n",
      "  File \"C:\\Users\\ramvi\\anaconda3\\lib\\site-packages\\sklearn\\tree\\_classes.py\", line 937, in fit\n",
      "    super().fit(\n",
      "  File \"C:\\Users\\ramvi\\anaconda3\\lib\\site-packages\\sklearn\\tree\\_classes.py\", line 352, in fit\n",
      "    criterion = CRITERIA_CLF[self.criterion](\n",
      "KeyError: 'entrop'\n",
      "\n",
      "  warnings.warn(some_fits_failed_message, FitFailedWarning)\n",
      "C:\\Users\\ramvi\\anaconda3\\lib\\site-packages\\sklearn\\model_selection\\_search.py:969: UserWarning: One or more of the test scores are non-finite: [0.76207688        nan        nan        nan        nan 0.78611589\n",
      " 0.77165806        nan        nan 0.77644865        nan        nan\n",
      " 0.78129662 0.79337349        nan        nan 0.76930579        nan\n",
      "        nan 0.76448652 0.78123924 0.77662077 0.78118187        nan\n",
      "        nan]\n",
      "  warnings.warn(\n"
     ]
    },
    {
     "data": {
      "text/plain": [
       "RandomizedSearchCV(cv=5, estimator=RandomForestClassifier(), n_iter=25,\n",
       "                   n_jobs=-1,\n",
       "                   param_distributions={'criterion': ['gini', 'entrop'],\n",
       "                                        'max_depth': [5, 6, 7, 8],\n",
       "                                        'max_features': ['sqrt', 'log2'],\n",
       "                                        'min_samples_split': [3, 4, 5],\n",
       "                                        'n_estimators': [10, 20, 30, 40]})"
      ]
     },
     "execution_count": 173,
     "metadata": {},
     "output_type": "execute_result"
    }
   ],
   "source": [
    "rcv.fit(xtrain,ytrain)"
   ]
  },
  {
   "cell_type": "code",
   "execution_count": 174,
   "id": "78c45b54",
   "metadata": {
    "scrolled": true
   },
   "outputs": [
    {
     "data": {
      "text/plain": [
       "{'n_estimators': 40,\n",
       " 'min_samples_split': 3,\n",
       " 'max_features': 'sqrt',\n",
       " 'max_depth': 6,\n",
       " 'criterion': 'gini'}"
      ]
     },
     "execution_count": 174,
     "metadata": {},
     "output_type": "execute_result"
    }
   ],
   "source": [
    "rcv.best_params_"
   ]
  },
  {
   "cell_type": "code",
   "execution_count": 175,
   "id": "3a1f3240",
   "metadata": {},
   "outputs": [],
   "source": [
    "fn_forest = RandomForestClassifier(n_estimators=30,min_samples_split=5,max_features=\"log2\",max_depth=8,criterion=\"gini\")"
   ]
  },
  {
   "cell_type": "code",
   "execution_count": 176,
   "id": "e28d131c",
   "metadata": {
    "scrolled": true
   },
   "outputs": [
    {
     "data": {
      "text/plain": [
       "RandomForestClassifier(max_depth=8, max_features='log2', min_samples_split=5,\n",
       "                       n_estimators=30)"
      ]
     },
     "execution_count": 176,
     "metadata": {},
     "output_type": "execute_result"
    }
   ],
   "source": [
    "fn_forest.fit(xtrain,ytrain)"
   ]
  },
  {
   "cell_type": "code",
   "execution_count": 177,
   "id": "f1fcb62e",
   "metadata": {},
   "outputs": [],
   "source": [
    "ypred_rf = fn_forest.predict(xtest)"
   ]
  },
  {
   "cell_type": "code",
   "execution_count": 178,
   "id": "4b6b375d",
   "metadata": {},
   "outputs": [
    {
     "data": {
      "text/plain": [
       "0.83"
      ]
     },
     "execution_count": 178,
     "metadata": {},
     "output_type": "execute_result"
    }
   ],
   "source": [
    "from sklearn.metrics import accuracy_score\n",
    "accuracy_score(ytest,ypred_rf).round(2)"
   ]
  },
  {
   "cell_type": "markdown",
   "id": "83fb8475",
   "metadata": {},
   "source": [
    "# "
   ]
  },
  {
   "cell_type": "code",
   "execution_count": 179,
   "id": "c7666773",
   "metadata": {
    "scrolled": true
   },
   "outputs": [
    {
     "data": {
      "image/png": "[encoded data removed]",
      "text/plain": [
       "<Figure size 720x432 with 1 Axes>"
      ]
     },
     "metadata": {
      "needs_background": "light"
     },
     "output_type": "display_data"
    }
   ],
   "source": [
    "# feature which impact more to buy premium\n",
    "\n",
    "x  = od.drop(\"premium_sub_willingness\",axis=1)\n",
    "y = od[\"premium_sub_willingness\"]\n",
    "\n",
    "from sklearn.model_selection import train_test_split\n",
    "xtrain,xtest,ytrain,ytest = train_test_split(x,y,test_size=0.2,random_state=2)\n",
    "\n",
    "\n",
    "from sklearn.ensemble import RandomForestClassifier\n",
    "\n",
    "\n",
    "model = RandomForestClassifier()\n",
    "model.fit(xtrain, ytrain)\n",
    "\n",
    "# Get feature importances\n",
    "feature_importances = model.feature_importances_\n",
    "\n",
    "# Visualize feature importances\n",
    "plt.figure(figsize=(10, 6))\n",
    "sns.barplot(x=feature_importances, y=xtrain.columns)\n",
    "plt.title(\"Feature Importance\")\n",
    "plt.xlabel(\"Importance\")\n",
    "plt.ylabel(\"Features\")\n",
    "plt.show()\n",
    "\n",
    "\n",
    "# on willing to buy the subscription the premium plan is most important part"
   ]
  },
  {
   "cell_type": "code",
   "execution_count": null,
   "id": "e7b39c1c",
   "metadata": {},
   "outputs": [],
   "source": []
  }
 ],
 "metadata": {
  "kernelspec": {
   "display_name": "Python 3 (ipykernel)",
   "language": "python",
   "name": "python3"
  },
  "language_info": {
   "codemirror_mode": {
    "name": "ipython",
    "version": 3
   },
   "file_extension": ".py",
   "mimetype": "text/x-python",
   "name": "python",
   "nbconvert_exporter": "python",
   "pygments_lexer": "ipython3",
   "version": "3.9.12"
  }
 },
 "nbformat": 4,
 "nbformat_minor": 5
}
